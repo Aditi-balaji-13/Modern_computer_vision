{
 "cells": [
  {
   "cell_type": "code",
   "execution_count": 15,
   "metadata": {
    "id": "BP3Y5lvhJFuJ"
   },
   "outputs": [],
   "source": [
    "#Importing packages\n",
    "import torch\n",
    "from torch.autograd import Variable\n",
    "import torch.nn as nn\n",
    "import torch.optim as optim\n",
    "import torchvision.transforms as transforms\n",
    "import torchvision.datasets as datasets\n",
    "import torch.nn.functional as F\n",
    "import numpy as np\n",
    "import torch.utils.data as td\n",
    "import random,time\n",
    "import matplotlib.pyplot as plt\n",
    "from sklearn.metrics import confusion_matrix\n",
    "import pandas as pd"
   ]
  },
  {
   "cell_type": "code",
   "execution_count": 2,
   "metadata": {
    "id": "YdVAOzMDRuBs"
   },
   "outputs": [],
   "source": [
    "#loading functio for dataswt\n",
    "#note: dataset is normalised\n",
    "def cifar_loaders(batch_size, shuffle_test=False): \n",
    "    normalize = transforms.Normalize(mean=[0.485, 0.456, 0.406],\n",
    "                                     std=[0.225, 0.225, 0.225])\n",
    "    data_tr = datasets.CIFAR10('./', train=True, download=True, \n",
    "        transform=transforms.Compose([\n",
    "            transforms.RandomHorizontalFlip(),\n",
    "            transforms.RandomCrop(32, 4),\n",
    "            transforms.ToTensor(),\n",
    "            normalize,\n",
    "        ]))\n",
    "    tl = int(len(data_tr)*0.8)\n",
    "    vl = int(len(data_tr)*0.2)\n",
    "    train, val = td.random_split(data_tr, [tl, vl])\n",
    "\n",
    "    test = datasets.CIFAR10('./', train=False, \n",
    "        transform=transforms.Compose([transforms.ToTensor(), normalize]))\n",
    "    train_loader = torch.utils.data.DataLoader(train, batch_size=batch_size,\n",
    "        shuffle=True, pin_memory=True)\n",
    "    val_loader = torch.utils.data.DataLoader(val, batch_size=batch_size,\n",
    "        shuffle=True, pin_memory=True)\n",
    "    test_loader = torch.utils.data.DataLoader(test, batch_size=batch_size,\n",
    "        shuffle=shuffle_test, pin_memory=True)\n",
    "    return train_loader, test_loader, val_loader"
   ]
  },
  {
   "cell_type": "code",
   "execution_count": 3,
   "metadata": {
    "id": "KmuK0wZcR0OA"
   },
   "outputs": [],
   "source": [
    "#hyperparameters\n",
    "batch_size = 64\n",
    "test_batch_size = 64\n",
    "input_size = 3072\n",
    "num_epochs = 30\n",
    "num_lab = 10"
   ]
  },
  {
   "cell_type": "code",
   "execution_count": 4,
   "metadata": {
    "colab": {
     "base_uri": "https://localhost:8080/",
     "height": 120,
     "referenced_widgets": [
      "10e799ae8e4e44cc8fcb3d343046fecf",
      "ad611a0cc0eb4644a56bbf2217dc2930",
      "3024ee0047c5496dafcf1909bec85997",
      "3038a69b689f4d5d9111f6f296dc1c24",
      "177db7de0f254ee2a7ed67dd7dd8160c",
      "752fd8f18cca4db2ae6737d4f07967dc",
      "e8d676a77d2f4a84bc137e7949746592",
      "0abf7ef8ab85488485614736e0f3549c",
      "d04066f171c24764a741c3b1a9caa1dc",
      "f5bc8fa1be10408185c53caa575125ab",
      "e5c16b4ccd424a22aed68fcc6361ad7a"
     ]
    },
    "id": "-c8oJS81SA5Q",
    "outputId": "543c9b03-df2e-481e-b45e-c5a292bf4e22"
   },
   "outputs": [
    {
     "name": "stdout",
     "output_type": "stream",
     "text": [
      "Downloading https://www.cs.toronto.edu/~kriz/cifar-10-python.tar.gz to ./cifar-10-python.tar.gz\n"
     ]
    },
    {
     "data": {
      "application/vnd.jupyter.widget-view+json": {
       "model_id": "10e799ae8e4e44cc8fcb3d343046fecf",
       "version_major": 2,
       "version_minor": 0
      },
      "text/plain": [
       "  0%|          | 0/170498071 [00:00<?, ?it/s]"
      ]
     },
     "metadata": {},
     "output_type": "display_data"
    },
    {
     "name": "stdout",
     "output_type": "stream",
     "text": [
      "Extracting ./cifar-10-python.tar.gz to ./\n",
      "Files already downloaded and verified\n",
      "Files already downloaded and verified\n"
     ]
    }
   ],
   "source": [
    "#loading params\n",
    "train_loader, _, _ = cifar_loaders(batch_size)\n",
    "_, test_loader, _ = cifar_loaders(test_batch_size)\n",
    "_, _, val_loader = cifar_loaders(batch_size)"
   ]
  },
  {
   "cell_type": "code",
   "execution_count": 5,
   "metadata": {
    "id": "CXQ0-0RcSTVW"
   },
   "outputs": [],
   "source": [
    "#network architecture\n",
    "class MLP_Model(nn.Module):\n",
    "  def __init__(self,input_size, num_label):\n",
    "    super().__init__()\n",
    "    self.classifier = nn.Sequential(nn.Linear(input_size, 500, bias = True),\n",
    "                                    nn.ReLU(inplace = True),\n",
    "                                    nn.Linear(500, 250, bias = True),\n",
    "                                    nn.ReLU(inplace = True),\n",
    "                                    nn.Linear(250, 100, bias = True),\n",
    "                                    nn.ReLU(inplace = True),\n",
    "                                    nn.Linear(100, num_label, bias = True))\n",
    "\n",
    "\n",
    "  def forward(self, x):\n",
    "    x = x.view(x.shape[0], -1)#flattening\n",
    "    y = self.classifier(x)\n",
    "    return y"
   ]
  },
  {
   "cell_type": "code",
   "execution_count": 6,
   "metadata": {
    "id": "LyXGIuW-Sx6E"
   },
   "outputs": [],
   "source": [
    "model = MLP_Model(input_size, num_lab)\n",
    "criterion = torch.nn.CrossEntropyLoss()\n",
    "optimizer = torch.optim.SGD(model.parameters(), lr=0.001)"
   ]
  },
  {
   "cell_type": "code",
   "execution_count": 7,
   "metadata": {
    "id": "BZ_k2Nm3kLSq"
   },
   "outputs": [],
   "source": [
    "def Acc_calc(loader, model):\n",
    "  correct = 0\n",
    "  total = 0\n",
    "  batch_loss = 0\n",
    "  tot_batch = 0\n",
    "  for i, (images, labels) in enumerate(loader):\n",
    "      images = images.reshape(-1, 3*32*32)\n",
    "      outputs = model(images)\n",
    "      _, predicted = torch.max(outputs.data, 1)\n",
    "      total += labels.size(0) \n",
    "      correct += (predicted == labels).sum().item()\n",
    "\n",
    "      loss = criterion(outputs, labels)\n",
    "      batch_loss += loss.item()\n",
    "      tot_batch += 1 \n",
    "\n",
    "  return correct/total * 100, batch_loss/tot_batch\n"
   ]
  },
  {
   "cell_type": "code",
   "execution_count": 8,
   "metadata": {
    "colab": {
     "base_uri": "https://localhost:8080/"
    },
    "id": "dahu0jjDTIEW",
    "outputId": "427c67c2-e268-41b2-b39f-f8ec2388f92e"
   },
   "outputs": [
    {
     "name": "stdout",
     "output_type": "stream",
     "text": [
      "Epoch [1/30], Averge Loss:for epoch[1, 2.2953] and Accuracy: 11.4700\n",
      "Epoch [2/30], Averge Loss:for epoch[2, 2.2743] and Accuracy: 16.5400\n",
      "Epoch [3/30], Averge Loss:for epoch[3, 2.2460] and Accuracy: 21.3875\n",
      "Epoch [4/30], Averge Loss:for epoch[4, 2.2043] and Accuracy: 22.8925\n",
      "Epoch [5/30], Averge Loss:for epoch[5, 2.1489] and Accuracy: 22.9250\n",
      "Epoch [6/30], Averge Loss:for epoch[6, 2.0946] and Accuracy: 24.1700\n",
      "Epoch [7/30], Averge Loss:for epoch[7, 2.0513] and Accuracy: 25.6925\n",
      "Epoch [8/30], Averge Loss:for epoch[8, 2.0187] and Accuracy: 26.6825\n",
      "Epoch [9/30], Averge Loss:for epoch[9, 1.9953] and Accuracy: 27.6925\n",
      "Epoch [10/30], Averge Loss:for epoch[10, 1.9777] and Accuracy: 28.4550\n",
      "Epoch [11/30], Averge Loss:for epoch[11, 1.9620] and Accuracy: 28.8825\n",
      "Epoch [12/30], Averge Loss:for epoch[12, 1.9462] and Accuracy: 29.5300\n",
      "Epoch [13/30], Averge Loss:for epoch[13, 1.9310] and Accuracy: 30.1875\n",
      "Epoch [14/30], Averge Loss:for epoch[14, 1.9149] and Accuracy: 30.8475\n",
      "Epoch [15/30], Averge Loss:for epoch[15, 1.9000] and Accuracy: 31.4325\n",
      "Epoch [16/30], Averge Loss:for epoch[16, 1.8864] and Accuracy: 32.1275\n",
      "Epoch [17/30], Averge Loss:for epoch[17, 1.8683] and Accuracy: 33.0300\n",
      "Epoch [18/30], Averge Loss:for epoch[18, 1.8569] and Accuracy: 33.2125\n",
      "Epoch [19/30], Averge Loss:for epoch[19, 1.8400] and Accuracy: 34.0200\n",
      "Epoch [20/30], Averge Loss:for epoch[20, 1.8289] and Accuracy: 34.1875\n",
      "Epoch [21/30], Averge Loss:for epoch[21, 1.8129] and Accuracy: 34.9425\n",
      "Epoch [22/30], Averge Loss:for epoch[22, 1.8029] and Accuracy: 35.0875\n",
      "Epoch [23/30], Averge Loss:for epoch[23, 1.7898] and Accuracy: 35.7825\n",
      "Epoch [24/30], Averge Loss:for epoch[24, 1.7757] and Accuracy: 36.3725\n",
      "Epoch [25/30], Averge Loss:for epoch[25, 1.7637] and Accuracy: 36.6800\n",
      "Epoch [26/30], Averge Loss:for epoch[26, 1.7562] and Accuracy: 36.9500\n",
      "Epoch [27/30], Averge Loss:for epoch[27, 1.7449] and Accuracy: 37.2200\n",
      "Epoch [28/30], Averge Loss:for epoch[28, 1.7333] and Accuracy: 37.8350\n",
      "Epoch [29/30], Averge Loss:for epoch[29, 1.7236] and Accuracy: 37.9900\n",
      "Epoch [30/30], Averge Loss:for epoch[30, 1.7151] and Accuracy: 38.7050\n"
     ]
    }
   ],
   "source": [
    "accuracy = []\n",
    "accuracy_train = []\n",
    "error = []\n",
    "val_loss = []\n",
    "for epoch in range(num_epochs):\n",
    "    avg_loss_epoch = 0\n",
    "    batch_loss = 0\n",
    "    total_batches = 0\n",
    "    tot = 0\n",
    "    correct = 0\n",
    "\n",
    "    for i, (images, labels) in enumerate(train_loader):\n",
    "        # Reshape images to (batch_size, input_size)\n",
    "\n",
    "        images = images.reshape(-1, 32*32*3)            \n",
    "\n",
    "        #print(images.shape)\n",
    "        outputs = model(images)\n",
    "\n",
    "        loss = criterion(outputs, labels)    \n",
    "        \n",
    "        # Backward and optimize\n",
    "        optimizer.zero_grad()\n",
    "        loss.backward()\n",
    "        optimizer.step()   \n",
    "\n",
    "        total_batches += 1     \n",
    "        batch_loss += loss.item()\n",
    "\n",
    "        _, predicted = torch.max(outputs.data, 1)\n",
    "        tot += labels.size(0)\n",
    "        correct += (predicted == labels).sum().item()\n",
    "\n",
    "    avg_loss_epoch = batch_loss/total_batches\n",
    "    acc, _ = Acc_calc(val_loader, model)\n",
    "    _, loss_val = Acc_calc(val_loader, model)\n",
    "    error.append(avg_loss_epoch)\n",
    "    accuracy.append(acc)\n",
    "    acc_train = correct/tot *100\n",
    "    accuracy_train.append(acc_train)\n",
    "    val_loss.append(loss_val)\n",
    "    \n",
    "    print ('Epoch [{}/{}], Averge Loss:for epoch[{}, {:.4f}] and Accuracy: {:.4f}' \n",
    "                   .format(epoch+1, num_epochs, epoch+1, avg_loss_epoch, acc_train ))"
   ]
  },
  {
   "cell_type": "code",
   "execution_count": 9,
   "metadata": {
    "colab": {
     "base_uri": "https://localhost:8080/"
    },
    "id": "Qple9DtqTuwZ",
    "outputId": "d4df975f-27e6-43be-9e7f-2e1f0b801026"
   },
   "outputs": [
    {
     "name": "stdout",
     "output_type": "stream",
     "text": [
      "Accuracy of the network on the 10000 test images: 38 %\n"
     ]
    }
   ],
   "source": [
    "correct = 0.\n",
    "total = 0.\n",
    "for images, labels in test_loader:\n",
    "    images = images.reshape(-1, 3*32*32)\n",
    "    #print(labels)\n",
    "    outputs_test = model(images)\n",
    "    _, predicted = torch.max(outputs_test.data, 1)\n",
    "    #print(predicted)\n",
    "    total += labels.size(0) \n",
    "    \n",
    "    correct += (predicted == labels).sum().item()\n",
    "    \n",
    "print('Accuracy of the network on the 10000 test images: %d %%' % (     100 * correct / total))\n",
    "       "
   ]
  },
  {
   "cell_type": "code",
   "execution_count": 10,
   "metadata": {
    "colab": {
     "base_uri": "https://localhost:8080/",
     "height": 295
    },
    "id": "-GxfNer3T7HF",
    "outputId": "f11f6254-c130-4765-c5af-d3518c5143ae"
   },
   "outputs": [
    {
     "data": {
      "image/png": "[encoded data removed]",
      "text/plain": [
       "<Figure size 432x288 with 1 Axes>"
      ]
     },
     "metadata": {
      "needs_background": "light"
     },
     "output_type": "display_data"
    }
   ],
   "source": [
    "plt.plot(accuracy)\n",
    "plt.xlabel('Epochs')\n",
    "plt.ylabel('Accuracy')\n",
    "plt.title('Validation Accuracy')\n",
    "plt.show()"
   ]
  },
  {
   "cell_type": "code",
   "execution_count": 11,
   "metadata": {
    "colab": {
     "base_uri": "https://localhost:8080/",
     "height": 295
    },
    "id": "aIrvDnsrhU1e",
    "outputId": "bc858576-30e6-4c8c-c3b3-783cdb2f837d"
   },
   "outputs": [
    {
     "data": {
      "image/png": "[encoded data removed]",
      "text/plain": [
       "<Figure size 432x288 with 1 Axes>"
      ]
     },
     "metadata": {
      "needs_background": "light"
     },
     "output_type": "display_data"
    }
   ],
   "source": [
    "plt.plot(accuracy_train)\n",
    "plt.xlabel('Epochs')\n",
    "plt.ylabel('Accuracy')\n",
    "plt.title('Training Accuracy')\n",
    "plt.show()"
   ]
  },
  {
   "cell_type": "code",
   "execution_count": 12,
   "metadata": {
    "colab": {
     "base_uri": "https://localhost:8080/",
     "height": 295
    },
    "id": "ghkxar1OhdlP",
    "outputId": "5a0c93e0-2060-4914-9925-fa5596338bfc"
   },
   "outputs": [
    {
     "data": {
      "image/png": "[encoded data removed]",
      "text/plain": [
       "<Figure size 432x288 with 1 Axes>"
      ]
     },
     "metadata": {
      "needs_background": "light"
     },
     "output_type": "display_data"
    }
   ],
   "source": [
    "plt.plot(val_loss)\n",
    "plt.xlabel('Epochs')\n",
    "plt.ylabel('Loss')\n",
    "plt.title('Validation Loss')\n",
    "plt.show()"
   ]
  },
  {
   "cell_type": "code",
   "execution_count": 13,
   "metadata": {
    "colab": {
     "base_uri": "https://localhost:8080/",
     "height": 295
    },
    "id": "hUKGFkQQqJ5B",
    "outputId": "064c8e7b-1ff1-43f4-bc05-7abe6509ddf3"
   },
   "outputs": [
    {
     "data": {
      "image/png": "[encoded data removed]",
      "text/plain": [
       "<Figure size 432x288 with 1 Axes>"
      ]
     },
     "metadata": {
      "needs_background": "light"
     },
     "output_type": "display_data"
    }
   ],
   "source": [
    "plt.plot(error)\n",
    "plt.xlabel('Epochs')\n",
    "plt.ylabel('Loss')\n",
    "plt.title('Training Loss')\n",
    "plt.show()"
   ]
  },
  {
   "cell_type": "code",
   "execution_count": 14,
   "metadata": {
    "colab": {
     "base_uri": "https://localhost:8080/"
    },
    "id": "oDRLjYu3_BE5",
    "outputId": "b4f2503b-256d-4ffc-9cce-4cc72a205fdd"
   },
   "outputs": [
    {
     "data": {
      "text/plain": [
       "array([[0, 0, 0, 0, 0, 0, 0, 1],\n",
       "       [0, 0, 0, 0, 0, 0, 0, 1],\n",
       "       [0, 0, 0, 0, 0, 0, 0, 0],\n",
       "       [0, 0, 0, 0, 0, 3, 1, 0],\n",
       "       [0, 0, 1, 0, 0, 0, 0, 0],\n",
       "       [0, 1, 0, 3, 0, 0, 0, 0],\n",
       "       [0, 0, 0, 0, 0, 0, 2, 0],\n",
       "       [2, 0, 0, 0, 0, 0, 0, 1]])"
      ]
     },
     "execution_count": 14,
     "metadata": {},
     "output_type": "execute_result"
    }
   ],
   "source": [
    "confmat = confusion_matrix(predicted.numpy(), labels.numpy())\n",
    "confmat"
   ]
  },
  {
   "cell_type": "code",
   "execution_count": 19,
   "metadata": {
    "colab": {
     "base_uri": "https://localhost:8080/",
     "height": 337
    },
    "id": "nQ--AyX5AlrW",
    "outputId": "17605e97-149e-4a98-e08b-a422121849d2"
   },
   "outputs": [
    {
     "name": "stderr",
     "output_type": "stream",
     "text": [
      "WARNING:matplotlib.image:Clipping input data to the valid range for imshow with RGB data ([0..1] for floats or [0..255] for integers).\n"
     ]
    },
    {
     "name": "stdout",
     "output_type": "stream",
     "text": [
      "Feature batch shape: torch.Size([64, 3, 32, 32])\n",
      "Labels batch shape: torch.Size([64])\n"
     ]
    },
    {
     "data": {
      "image/png": "[encoded data removed]",
      "text/plain": [
       "<Figure size 432x288 with 1 Axes>"
      ]
     },
     "metadata": {
      "needs_background": "light"
     },
     "output_type": "display_data"
    },
    {
     "name": "stdout",
     "output_type": "stream",
     "text": [
      "Label: 6\n"
     ]
    }
   ],
   "source": [
    "train_features, train_labels = next(iter(train_loader))\n",
    "print(f\"Feature batch shape: {train_features.size()}\")\n",
    "print(f\"Labels batch shape: {train_labels.size()}\")\n",
    "img = train_features[0].squeeze()\n",
    "label = train_labels[0]\n",
    "plt.imshow(img.permute((1, 2, 0)))\n",
    "plt.show()\n",
    "print(f\"Label: {label}\")"
   ]
  },
  {
   "cell_type": "code",
   "execution_count": null,
   "metadata": {
    "id": "I6UwS9AVCO9f"
   },
   "outputs": [],
   "source": []
  }
 ],
 "metadata": {
  "accelerator": "GPU",
  "colab": {
   "collapsed_sections": [],
   "provenance": []
  },
  "kernelspec": {
   "display_name": "Python 3",
   "language": "python",
   "name": "python3"
  },
  "language_info": {
   "codemirror_mode": {
    "name": "ipython",
    "version": 3
   },
   "file_extension": ".py",
   "mimetype": "text/x-python",
   "name": "python",
   "nbconvert_exporter": "python",
   "pygments_lexer": "ipython3",
   "version": "3.8.8"
  },
  "widgets": {
   "application/vnd.jupyter.widget-state+json": {
    "0abf7ef8ab85488485614736e0f3549c": {
     "model_module": "@jupyter-widgets/base",
     "model_module_version": "1.2.0",
     "model_name": "LayoutModel",
     "state": {
      "_model_module": "@jupyter-widgets/base",
      "_model_module_version": "1.2.0",
      "_model_name": "LayoutModel",
      "_view_count": null,
      "_view_module": "@jupyter-widgets/base",
      "_view_module_version": "1.2.0",
      "_view_name": "LayoutView",
      "align_content": null,
      "align_items": null,
      "align_self": null,
      "border": null,
      "bottom": null,
      "display": null,
      "flex": null,
      "flex_flow": null,
      "grid_area": null,
      "grid_auto_columns": null,
      "grid_auto_flow": null,
      "grid_auto_rows": null,
      "grid_column": null,
      "grid_gap": null,
      "grid_row": null,
      "grid_template_areas": null,
      "grid_template_columns": null,
      "grid_template_rows": null,
      "height": null,
      "justify_content": null,
      "justify_items": null,
      "left": null,
      "margin": null,
      "max_height": null,
      "max_width": null,
      "min_height": null,
      "min_width": null,
      "object_fit": null,
      "object_position": null,
      "order": null,
      "overflow": null,
      "overflow_x": null,
      "overflow_y": null,
      "padding": null,
      "right": null,
      "top": null,
      "visibility": null,
      "width": null
     }
    },
    "10e799ae8e4e44cc8fcb3d343046fecf": {
     "model_module": "@jupyter-widgets/controls",
     "model_module_version": "1.5.0",
     "model_name": "HBoxModel",
     "state": {
      "_dom_classes": [],
      "_model_module": "@jupyter-widgets/controls",
      "_model_module_version": "1.5.0",
      "_model_name": "HBoxModel",
      "_view_count": null,
      "_view_module": "@jupyter-widgets/controls",
      "_view_module_version": "1.5.0",
      "_view_name": "HBoxView",
      "box_style": "",
      "children": [
       "IPY_MODEL_ad611a0cc0eb4644a56bbf2217dc2930",
       "IPY_MODEL_3024ee0047c5496dafcf1909bec85997",
       "IPY_MODEL_3038a69b689f4d5d9111f6f296dc1c24"
      ],
      "layout": "IPY_MODEL_177db7de0f254ee2a7ed67dd7dd8160c"
     }
    },
    "177db7de0f254ee2a7ed67dd7dd8160c": {
     "model_module": "@jupyter-widgets/base",
     "model_module_version": "1.2.0",
     "model_name": "LayoutModel",
     "state": {
      "_model_module": "@jupyter-widgets/base",
      "_model_module_version": "1.2.0",
      "_model_name": "LayoutModel",
      "_view_count": null,
      "_view_module": "@jupyter-widgets/base",
      "_view_module_version": "1.2.0",
      "_view_name": "LayoutView",
      "align_content": null,
      "align_items": null,
      "align_self": null,
      "border": null,
      "bottom": null,
      "display": null,
      "flex": null,
      "flex_flow": null,
      "grid_area": null,
      "grid_auto_columns": null,
      "grid_auto_flow": null,
      "grid_auto_rows": null,
      "grid_column": null,
      "grid_gap": null,
      "grid_row": null,
      "grid_template_areas": null,
      "grid_template_columns": null,
      "grid_template_rows": null,
      "height": null,
      "justify_content": null,
      "justify_items": null,
      "left": null,
      "margin": null,
      "max_height": null,
      "max_width": null,
      "min_height": null,
      "min_width": null,
      "object_fit": null,
      "object_position": null,
      "order": null,
      "overflow": null,
      "overflow_x": null,
      "overflow_y": null,
      "padding": null,
      "right": null,
      "top": null,
      "visibility": null,
      "width": null
     }
    },
    "3024ee0047c5496dafcf1909bec85997": {
     "model_module": "@jupyter-widgets/controls",
     "model_module_version": "1.5.0",
     "model_name": "FloatProgressModel",
     "state": {
      "_dom_classes": [],
      "_model_module": "@jupyter-widgets/controls",
      "_model_module_version": "1.5.0",
      "_model_name": "FloatProgressModel",
      "_view_count": null,
      "_view_module": "@jupyter-widgets/controls",
      "_view_module_version": "1.5.0",
      "_view_name": "ProgressView",
      "bar_style": "success",
      "description": "",
      "description_tooltip": null,
      "layout": "IPY_MODEL_0abf7ef8ab85488485614736e0f3549c",
      "max": 170498071,
      "min": 0,
      "orientation": "horizontal",
      "style": "IPY_MODEL_d04066f171c24764a741c3b1a9caa1dc",
      "value": 170498071
     }
    },
    "3038a69b689f4d5d9111f6f296dc1c24": {
     "model_module": "@jupyter-widgets/controls",
     "model_module_version": "1.5.0",
     "model_name": "HTMLModel",
     "state": {
      "_dom_classes": [],
      "_model_module": "@jupyter-widgets/controls",
      "_model_module_version": "1.5.0",
      "_model_name": "HTMLModel",
      "_view_count": null,
      "_view_module": "@jupyter-widgets/controls",
      "_view_module_version": "1.5.0",
      "_view_name": "HTMLView",
      "description": "",
      "description_tooltip": null,
      "layout": "IPY_MODEL_f5bc8fa1be10408185c53caa575125ab",
      "placeholder": "​",
      "style": "IPY_MODEL_e5c16b4ccd424a22aed68fcc6361ad7a",
      "value": " 170498071/170498071 [00:02&lt;00:00, 52502116.00it/s]"
     }
    },
    "752fd8f18cca4db2ae6737d4f07967dc": {
     "model_module": "@jupyter-widgets/base",
     "model_module_version": "1.2.0",
     "model_name": "LayoutModel",
     "state": {
      "_model_module": "@jupyter-widgets/base",
      "_model_module_version": "1.2.0",
      "_model_name": "LayoutModel",
      "_view_count": null,
      "_view_module": "@jupyter-widgets/base",
      "_view_module_version": "1.2.0",
      "_view_name": "LayoutView",
      "align_content": null,
      "align_items": null,
      "align_self": null,
      "border": null,
      "bottom": null,
      "display": null,
      "flex": null,
      "flex_flow": null,
      "grid_area": null,
      "grid_auto_columns": null,
      "grid_auto_flow": null,
      "grid_auto_rows": null,
      "grid_column": null,
      "grid_gap": null,
      "grid_row": null,
      "grid_template_areas": null,
      "grid_template_columns": null,
      "grid_template_rows": null,
      "height": null,
      "justify_content": null,
      "justify_items": null,
      "left": null,
      "margin": null,
      "max_height": null,
      "max_width": null,
      "min_height": null,
      "min_width": null,
      "object_fit": null,
      "object_position": null,
      "order": null,
      "overflow": null,
      "overflow_x": null,
      "overflow_y": null,
      "padding": null,
      "right": null,
      "top": null,
      "visibility": null,
      "width": null
     }
    },
    "ad611a0cc0eb4644a56bbf2217dc2930": {
     "model_module": "@jupyter-widgets/controls",
     "model_module_version": "1.5.0",
     "model_name": "HTMLModel",
     "state": {
      "_dom_classes": [],
      "_model_module": "@jupyter-widgets/controls",
      "_model_module_version": "1.5.0",
      "_model_name": "HTMLModel",
      "_view_count": null,
      "_view_module": "@jupyter-widgets/controls",
      "_view_module_version": "1.5.0",
      "_view_name": "HTMLView",
      "description": "",
      "description_tooltip": null,
      "layout": "IPY_MODEL_752fd8f18cca4db2ae6737d4f07967dc",
      "placeholder": "​",
      "style": "IPY_MODEL_e8d676a77d2f4a84bc137e7949746592",
      "value": "100%"
     }
    },
    "d04066f171c24764a741c3b1a9caa1dc": {
     "model_module": "@jupyter-widgets/controls",
     "model_module_version": "1.5.0",
     "model_name": "ProgressStyleModel",
     "state": {
      "_model_module": "@jupyter-widgets/controls",
      "_model_module_version": "1.5.0",
      "_model_name": "ProgressStyleModel",
      "_view_count": null,
      "_view_module": "@jupyter-widgets/base",
      "_view_module_version": "1.2.0",
      "_view_name": "StyleView",
      "bar_color": null,
      "description_width": ""
     }
    },
    "e5c16b4ccd424a22aed68fcc6361ad7a": {
     "model_module": "@jupyter-widgets/controls",
     "model_module_version": "1.5.0",
     "model_name": "DescriptionStyleModel",
     "state": {
      "_model_module": "@jupyter-widgets/controls",
      "_model_module_version": "1.5.0",
      "_model_name": "DescriptionStyleModel",
      "_view_count": null,
      "_view_module": "@jupyter-widgets/base",
      "_view_module_version": "1.2.0",
      "_view_name": "StyleView",
      "description_width": ""
     }
    },
    "e8d676a77d2f4a84bc137e7949746592": {
     "model_module": "@jupyter-widgets/controls",
     "model_module_version": "1.5.0",
     "model_name": "DescriptionStyleModel",
     "state": {
      "_model_module": "@jupyter-widgets/controls",
      "_model_module_version": "1.5.0",
      "_model_name": "DescriptionStyleModel",
      "_view_count": null,
      "_view_module": "@jupyter-widgets/base",
      "_view_module_version": "1.2.0",
      "_view_name": "StyleView",
      "description_width": ""
     }
    },
    "f5bc8fa1be10408185c53caa575125ab": {
     "model_module": "@jupyter-widgets/base",
     "model_module_version": "1.2.0",
     "model_name": "LayoutModel",
     "state": {
      "_model_module": "@jupyter-widgets/base",
      "_model_module_version": "1.2.0",
      "_model_name": "LayoutModel",
      "_view_count": null,
      "_view_module": "@jupyter-widgets/base",
      "_view_module_version": "1.2.0",
      "_view_name": "LayoutView",
      "align_content": null,
      "align_items": null,
      "align_self": null,
      "border": null,
      "bottom": null,
      "display": null,
      "flex": null,
      "flex_flow": null,
      "grid_area": null,
      "grid_auto_columns": null,
      "grid_auto_flow": null,
      "grid_auto_rows": null,
      "grid_column": null,
      "grid_gap": null,
      "grid_row": null,
      "grid_template_areas": null,
      "grid_template_columns": null,
      "grid_template_rows": null,
      "height": null,
      "justify_content": null,
      "justify_items": null,
      "left": null,
      "margin": null,
      "max_height": null,
      "max_width": null,
      "min_height": null,
      "min_width": null,
      "object_fit": null,
      "object_position": null,
      "order": null,
      "overflow": null,
      "overflow_x": null,
      "overflow_y": null,
      "padding": null,
      "right": null,
      "top": null,
      "visibility": null,
      "width": null
     }
    }
   }
  }
 },
 "nbformat": 4,
 "nbformat_minor": 1
}
