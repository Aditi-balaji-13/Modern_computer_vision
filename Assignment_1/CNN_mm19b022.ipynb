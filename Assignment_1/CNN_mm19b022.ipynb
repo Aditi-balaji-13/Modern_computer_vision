{
 "cells": [
  {
   "cell_type": "code",
   "execution_count": 51,
   "metadata": {
    "id": "Tq8u4GeIcHo5"
   },
   "outputs": [],
   "source": [
    "#importing relavent libraries\n",
    "import torch\n",
    "from torch.autograd import Variable\n",
    "import torch.nn as nn\n",
    "import torch.optim as optim\n",
    "import torchvision.transforms as transforms\n",
    "import torchvision.datasets as datasets\n",
    "import torch.nn.functional as F\n",
    "import numpy as np\n",
    "import torch.utils.data as td\n",
    "import random,time\n",
    "import matplotlib.pyplot as plt\n",
    "import torchvision.models as models\n",
    "from sklearn.metrics import confusion_matrix"
   ]
  },
  {
   "cell_type": "code",
   "execution_count": 2,
   "metadata": {
    "id": "VYJ1JuyZcogw"
   },
   "outputs": [],
   "source": [
    "#loading functio for dataswt\n",
    "#note: dataset is normalised\n",
    "def cifar_loaders(batch_size, shuffle_test=False): \n",
    "    normalize = transforms.Normalize(mean=[0.485, 0.456, 0.406],\n",
    "                                     std=[0.225, 0.225, 0.225])\n",
    "    data_tr = datasets.CIFAR10('./', train=True, download=True, \n",
    "        transform=transforms.Compose([\n",
    "            transforms.RandomHorizontalFlip(),\n",
    "            transforms.RandomCrop(32, 4),\n",
    "            transforms.ToTensor(),\n",
    "            normalize,\n",
    "        ]))\n",
    "    tl = int(len(data_tr)*0.8)\n",
    "    vl = int(len(data_tr)*0.2)\n",
    "    train, val = td.random_split(data_tr, [tl, vl])\n",
    "\n",
    "    test = datasets.CIFAR10('./', train=False, \n",
    "        transform=transforms.Compose([transforms.ToTensor(), normalize]))\n",
    "    train_loader = torch.utils.data.DataLoader(train, batch_size=batch_size,\n",
    "        shuffle=True, pin_memory=True)\n",
    "    val_loader = torch.utils.data.DataLoader(val, batch_size=batch_size,\n",
    "        shuffle=True, pin_memory=True)\n",
    "    test_loader = torch.utils.data.DataLoader(test, batch_size=batch_size,\n",
    "        shuffle=shuffle_test, pin_memory=True)\n",
    "    return train_loader, test_loader, val_loader"
   ]
  },
  {
   "cell_type": "code",
   "execution_count": 3,
   "metadata": {
    "id": "a3AUQs0Fc9L5"
   },
   "outputs": [],
   "source": [
    "#hyperparameters\n",
    "batch_size = 64\n",
    "test_batch_size = 64\n",
    "input_size = 3072\n",
    "num_epochs = 30\n",
    "num_lab = 10"
   ]
  },
  {
   "cell_type": "code",
   "execution_count": 4,
   "metadata": {
    "colab": {
     "base_uri": "https://localhost:8080/",
     "height": 120,
     "referenced_widgets": [
      "d5728088e74e4977a013c3d248954107",
      "6de4dae338964431bafffd4018afa16d",
      "a9ed9c2bc117414ea393185ee71c5a16",
      "94bc74aa45844799ace3ff626264656d",
      "faf80a244e634315995df75a702d0427",
      "833bea657e9442618a8238c8f8abe6d1",
      "7ae7bdafefb147399a2b8d3f073e25e9",
      "e2fb0dc04e9b48648af34d79f838d012",
      "38f17b352a6c42b1a588943a1c2d48a0",
      "38a4d6c6752c48409f782a27048dd5e0",
      "524ec97a3e1148c583191cdc9b829151"
     ]
    },
    "id": "zCsEDAi7dEe-",
    "outputId": "7d5ce627-fce9-4c2a-a24b-b891a846ceb7"
   },
   "outputs": [
    {
     "name": "stdout",
     "output_type": "stream",
     "text": [
      "Downloading https://www.cs.toronto.edu/~kriz/cifar-10-python.tar.gz to ./cifar-10-python.tar.gz\n"
     ]
    },
    {
     "data": {
      "application/vnd.jupyter.widget-view+json": {
       "model_id": "d5728088e74e4977a013c3d248954107",
       "version_major": 2,
       "version_minor": 0
      },
      "text/plain": [
       "  0%|          | 0/170498071 [00:00<?, ?it/s]"
      ]
     },
     "metadata": {},
     "output_type": "display_data"
    },
    {
     "name": "stdout",
     "output_type": "stream",
     "text": [
      "Extracting ./cifar-10-python.tar.gz to ./\n",
      "Files already downloaded and verified\n",
      "Files already downloaded and verified\n"
     ]
    }
   ],
   "source": [
    "#loading params\n",
    "train_loader, _, _ = cifar_loaders(batch_size)\n",
    "_, test_loader, _ = cifar_loaders(test_batch_size)\n",
    "_, _, val_loader = cifar_loaders(batch_size)"
   ]
  },
  {
   "cell_type": "code",
   "execution_count": 5,
   "metadata": {
    "colab": {
     "base_uri": "https://localhost:8080/",
     "height": 158,
     "referenced_widgets": [
      "62ea10c3555940e18bdec7530f8bd941",
      "cbdb41fb9e094c7ab593cfdd1a7ece22",
      "8da6ea8150ec475b89c5163ce122a9c1",
      "7bf23f22054e408cbd2a92aba3d63005",
      "a1a51cf99dd7434383d2f43fcf981be4",
      "6349b983e55a46f2a45e996130d1bc75",
      "9c6921712fd042b09a4a75e1b9cab854",
      "c303fce50715449e94e53ddae0aacf02",
      "1b879c21a9b5467cb5f9c33d5960a19a",
      "1ad623545c2e45f7b103148d611f106e",
      "ed04780b2d644273b900c20e513e7e98"
     ]
    },
    "id": "cga_RxmrehMf",
    "outputId": "6216386b-1245-41cb-e1fe-520d0be9b385"
   },
   "outputs": [
    {
     "name": "stderr",
     "output_type": "stream",
     "text": [
      "/usr/local/lib/python3.7/dist-packages/torchvision/models/_utils.py:209: UserWarning: The parameter 'pretrained' is deprecated since 0.13 and will be removed in 0.15, please use 'weights' instead.\n",
      "  f\"The parameter '{pretrained_param}' is deprecated since 0.13 and will be removed in 0.15, \"\n",
      "/usr/local/lib/python3.7/dist-packages/torchvision/models/_utils.py:223: UserWarning: Arguments other than a weight enum or `None` for 'weights' are deprecated since 0.13 and will be removed in 0.15. The current behavior is equivalent to passing `weights=VGG11_Weights.IMAGENET1K_V1`. You can also use `weights=VGG11_Weights.DEFAULT` to get the most up-to-date weights.\n",
      "  warnings.warn(msg)\n",
      "Downloading: \"https://download.pytorch.org/models/vgg11-8a719046.pth\" to /root/.cache/torch/hub/checkpoints/vgg11-8a719046.pth\n"
     ]
    },
    {
     "data": {
      "application/vnd.jupyter.widget-view+json": {
       "model_id": "62ea10c3555940e18bdec7530f8bd941",
       "version_major": 2,
       "version_minor": 0
      },
      "text/plain": [
       "  0%|          | 0.00/507M [00:00<?, ?B/s]"
      ]
     },
     "metadata": {},
     "output_type": "display_data"
    }
   ],
   "source": [
    "#VG11\n",
    "premdl = models.vgg11(pretrained = True)\n",
    "for params in premdl.parameters():\n",
    "  params.requires_grad = False"
   ]
  },
  {
   "cell_type": "code",
   "execution_count": 31,
   "metadata": {
    "colab": {
     "base_uri": "https://localhost:8080/"
    },
    "id": "FnImwlyqgQSY",
    "outputId": "be16ac46-b8a0-4e61-f7ad-18850567901f"
   },
   "outputs": [
    {
     "name": "stdout",
     "output_type": "stream",
     "text": [
      "cuda:0\n"
     ]
    }
   ],
   "source": [
    "device = torch.device('cuda:0' if torch.cuda.is_available() else 'cpu')\n",
    "print(device)"
   ]
  },
  {
   "cell_type": "code",
   "execution_count": 29,
   "metadata": {
    "colab": {
     "base_uri": "https://localhost:8080/"
    },
    "id": "PUbFWuatlv-W",
    "outputId": "80478bc9-5c5d-4dcc-d9f9-d49d23af0260"
   },
   "outputs": [
    {
     "name": "stdout",
     "output_type": "stream",
     "text": [
      "torch.Size([512, 2, 2])\n"
     ]
    }
   ],
   "source": [
    "x = torch.rand(3,32, 32).to(device)\n",
    "y = (premdl.features[:-1].to(device))(x)\n",
    "print(y.shape)"
   ]
  },
  {
   "cell_type": "code",
   "execution_count": 40,
   "metadata": {
    "id": "YLGk-qWldhom"
   },
   "outputs": [],
   "source": [
    "#network architecture\n",
    "class CNN_Model(nn.Module):\n",
    "  def __init__(self,input_size, num_label, premdl):\n",
    "    super(CNN_Model, self).__init__()\n",
    "    self.feat = premdl.features[:-1]\n",
    "    self.classifier = nn.Sequential(nn.Linear(512*4, 512, bias = True),\n",
    "                                    nn.ReLU(inplace = False),\n",
    "                                    nn.Dropout(p = 0.5, inplace = False),\n",
    "                                    nn.Linear(512, 128, bias = True),\n",
    "                                    nn.ReLU(inplace = False),\n",
    "                                    nn.Dropout(p = 0.5, inplace = False),\n",
    "                                    nn.Linear(128, num_label, bias = True))\n",
    "\n",
    "\n",
    "  def forward(self, x):\n",
    "    x = self.feat(x)\n",
    "    x = x.view(x.shape[0], -1)\n",
    "    y = self.classifier(x)\n",
    "    return y"
   ]
  },
  {
   "cell_type": "code",
   "execution_count": 41,
   "metadata": {
    "id": "P3n8cLLwgYVX"
   },
   "outputs": [],
   "source": [
    "model = CNN_Model(input_size, num_lab, premdl).to(device)\n",
    "criterion = torch.nn.CrossEntropyLoss()\n",
    "optimizer = torch.optim.SGD(model.parameters(), lr=0.001)"
   ]
  },
  {
   "cell_type": "code",
   "execution_count": 58,
   "metadata": {
    "id": "0BczqzoogvIq"
   },
   "outputs": [],
   "source": [
    "def Acc_calc(loader, model):\n",
    "  correct = 0\n",
    "  total = 0\n",
    "  batch_loss = 0\n",
    "  tot_batch = 0\n",
    "  for i, (images, labels) in enumerate(loader):\n",
    "      #images = images.reshape(-1, 3*32*32)\n",
    "      images = Variable(images).to(device)\n",
    "      labels = Variable(labels).to(device)           \n",
    "\n",
    "      outputs = model(images)\n",
    "      _, predicted = torch.max(outputs.data, 1)\n",
    "      total += labels.size(0) \n",
    "      correct += (predicted == labels).sum().item()\n",
    "\n",
    "      loss = criterion(outputs, labels)\n",
    "      batch_loss += loss.item()\n",
    "      tot_batch += 1 \n",
    "\n",
    "  return correct/total * 100, batch_loss/tot_batch\n"
   ]
  },
  {
   "cell_type": "code",
   "execution_count": 59,
   "metadata": {
    "colab": {
     "base_uri": "https://localhost:8080/"
    },
    "id": "8yC4WphEg-1o",
    "outputId": "409c59e9-b460-4d9c-fa12-f54f38f9a440"
   },
   "outputs": [
    {
     "name": "stdout",
     "output_type": "stream",
     "text": [
      "Epoch [1/30], Averge Loss:for epoch[1, 1.2876] and Accuracy: 54.8225\n",
      "Epoch [2/30], Averge Loss:for epoch[2, 1.2785] and Accuracy: 55.0175\n",
      "Epoch [3/30], Averge Loss:for epoch[3, 1.2750] and Accuracy: 55.4250\n",
      "Epoch [4/30], Averge Loss:for epoch[4, 1.2664] and Accuracy: 55.7800\n",
      "Epoch [5/30], Averge Loss:for epoch[5, 1.2584] and Accuracy: 55.9775\n",
      "Epoch [6/30], Averge Loss:for epoch[6, 1.2579] and Accuracy: 55.9350\n",
      "Epoch [7/30], Averge Loss:for epoch[7, 1.2475] and Accuracy: 56.3650\n",
      "Epoch [8/30], Averge Loss:for epoch[8, 1.2475] and Accuracy: 56.4350\n",
      "Epoch [9/30], Averge Loss:for epoch[9, 1.2396] and Accuracy: 56.8050\n",
      "Epoch [10/30], Averge Loss:for epoch[10, 1.2357] and Accuracy: 56.6800\n",
      "Epoch [11/30], Averge Loss:for epoch[11, 1.2335] and Accuracy: 57.0500\n",
      "Epoch [12/30], Averge Loss:for epoch[12, 1.2323] and Accuracy: 57.0775\n",
      "Epoch [13/30], Averge Loss:for epoch[13, 1.2255] and Accuracy: 57.4525\n",
      "Epoch [14/30], Averge Loss:for epoch[14, 1.2214] and Accuracy: 57.6000\n",
      "Epoch [15/30], Averge Loss:for epoch[15, 1.2190] and Accuracy: 57.5325\n",
      "Epoch [16/30], Averge Loss:for epoch[16, 1.2185] and Accuracy: 57.8225\n",
      "Epoch [17/30], Averge Loss:for epoch[17, 1.2171] and Accuracy: 57.7475\n",
      "Epoch [18/30], Averge Loss:for epoch[18, 1.2104] and Accuracy: 57.9850\n",
      "Epoch [19/30], Averge Loss:for epoch[19, 1.2038] and Accuracy: 58.1325\n",
      "Epoch [20/30], Averge Loss:for epoch[20, 1.1974] and Accuracy: 58.3225\n",
      "Epoch [21/30], Averge Loss:for epoch[21, 1.1990] and Accuracy: 58.2000\n",
      "Epoch [22/30], Averge Loss:for epoch[22, 1.1947] and Accuracy: 58.3675\n",
      "Epoch [23/30], Averge Loss:for epoch[23, 1.1890] and Accuracy: 58.6875\n",
      "Epoch [24/30], Averge Loss:for epoch[24, 1.1914] and Accuracy: 58.4775\n",
      "Epoch [25/30], Averge Loss:for epoch[25, 1.1820] and Accuracy: 58.6000\n",
      "Epoch [26/30], Averge Loss:for epoch[26, 1.1829] and Accuracy: 58.6500\n",
      "Epoch [27/30], Averge Loss:for epoch[27, 1.1813] and Accuracy: 58.6350\n",
      "Epoch [28/30], Averge Loss:for epoch[28, 1.1757] and Accuracy: 58.9175\n",
      "Epoch [29/30], Averge Loss:for epoch[29, 1.1795] and Accuracy: 58.6250\n",
      "Epoch [30/30], Averge Loss:for epoch[30, 1.1676] and Accuracy: 59.5225\n"
     ]
    }
   ],
   "source": [
    "accuracy = []\n",
    "accuracy_train = []\n",
    "error = []\n",
    "val_loss = []\n",
    "for epoch in range(num_epochs):\n",
    "    avg_loss_epoch = 0\n",
    "    batch_loss = 0\n",
    "    total_batches = 0\n",
    "    tot = 0\n",
    "    correct = 0\n",
    "\n",
    "    for i, (images, labels) in enumerate(train_loader):\n",
    "        # Reshape images to (batch_size, input_size)\n",
    "\n",
    "        #images = images.reshape(-1, 32*32*3) \n",
    "        images = Variable(images).to(device)\n",
    "        labels = Variable(labels).to(device)           \n",
    "\n",
    "        #print(images.shape)\n",
    "        outputs = model(images)\n",
    "\n",
    "        loss = criterion(outputs, labels)    \n",
    "        \n",
    "        # Backward and optimize\n",
    "        optimizer.zero_grad()\n",
    "        loss.backward()\n",
    "        optimizer.step()   \n",
    "\n",
    "        total_batches += 1     \n",
    "        batch_loss += loss.item()\n",
    "\n",
    "        _, predicted = torch.max(outputs.data, 1)\n",
    "        tot += labels.size(0)\n",
    "        correct += (predicted == labels).sum().item()\n",
    "\n",
    "    avg_loss_epoch = batch_loss/total_batches\n",
    "    acc, _ = Acc_calc(val_loader, model)\n",
    "    _, loss_val = Acc_calc(val_loader, model)\n",
    "    error.append(avg_loss_epoch)\n",
    "    accuracy.append(acc)\n",
    "    acc_train = correct/tot *100\n",
    "    accuracy_train.append(acc_train)\n",
    "    val_loss.append(loss_val)\n",
    "    \n",
    "    print ('Epoch [{}/{}], Averge Loss:for epoch[{}, {:.4f}] and Accuracy: {:.4f}' \n",
    "                   .format(epoch+1, num_epochs, epoch+1, avg_loss_epoch, acc_train ))"
   ]
  },
  {
   "cell_type": "code",
   "execution_count": 60,
   "metadata": {
    "colab": {
     "base_uri": "https://localhost:8080/"
    },
    "id": "tcw81zGehDHv",
    "outputId": "778a9188-f9e3-4a7b-9609-65d445f6f4da"
   },
   "outputs": [
    {
     "name": "stdout",
     "output_type": "stream",
     "text": [
      "Accuracy of the network on the 10000 test images: 60 %\n"
     ]
    }
   ],
   "source": [
    "correct = 0.\n",
    "total = 0.\n",
    "for images, labels in test_loader:\n",
    "    #images = images.reshape(-1, 3*32*32)\n",
    "    images = Variable(images).to(device)\n",
    "    labels = Variable(labels).to(device) \n",
    "    #print(labels)\n",
    "    outputs_test = model(images)\n",
    "    _, predicted = torch.max(outputs_test.data, 1)\n",
    "    #print(predicted)\n",
    "    total += labels.size(0) \n",
    "    \n",
    "    correct += (predicted == labels).sum().item()\n",
    "    \n",
    "print('Accuracy of the network on the 10000 test images: %d %%' % (     100 * correct / total))\n",
    "       "
   ]
  },
  {
   "cell_type": "code",
   "execution_count": 61,
   "metadata": {
    "colab": {
     "base_uri": "https://localhost:8080/",
     "height": 295
    },
    "id": "yIO3mfwpqLKs",
    "outputId": "b4106734-bac5-4518-b634-58605fe405fe"
   },
   "outputs": [
    {
     "data": {
      "image/png": "[encoded data removed]",
      "text/plain": [
       "<Figure size 432x288 with 1 Axes>"
      ]
     },
     "metadata": {
      "needs_background": "light"
     },
     "output_type": "display_data"
    }
   ],
   "source": [
    "plt.plot(accuracy)\n",
    "plt.xlabel('Epochs')\n",
    "plt.ylabel('Accuracy')\n",
    "plt.title('Validation Accuracy')\n",
    "plt.show()"
   ]
  },
  {
   "cell_type": "code",
   "execution_count": 62,
   "metadata": {
    "colab": {
     "base_uri": "https://localhost:8080/",
     "height": 295
    },
    "id": "xaxtftBvqSGf",
    "outputId": "12893fe3-094b-49c6-a0b9-68890b560a1e"
   },
   "outputs": [
    {
     "data": {
      "image/png": "[encoded data removed]",
      "text/plain": [
       "<Figure size 432x288 with 1 Axes>"
      ]
     },
     "metadata": {
      "needs_background": "light"
     },
     "output_type": "display_data"
    }
   ],
   "source": [
    "plt.plot(accuracy_train)\n",
    "plt.xlabel('Epochs')\n",
    "plt.ylabel('Accuracy')\n",
    "plt.title('Training Accuracy')\n",
    "plt.show()"
   ]
  },
  {
   "cell_type": "code",
   "execution_count": 63,
   "metadata": {
    "colab": {
     "base_uri": "https://localhost:8080/",
     "height": 295
    },
    "id": "4V2YipuvqWZQ",
    "outputId": "66a6b031-ef74-44ce-cac3-2329c6d727ac"
   },
   "outputs": [
    {
     "data": {
      "image/png": "[encoded data removed]",
      "text/plain": [
       "<Figure size 432x288 with 1 Axes>"
      ]
     },
     "metadata": {
      "needs_background": "light"
     },
     "output_type": "display_data"
    }
   ],
   "source": [
    "plt.plot(val_loss)\n",
    "plt.xlabel('Epochs')\n",
    "plt.ylabel('Loss')\n",
    "plt.title('Validation Loss')\n",
    "plt.show()"
   ]
  },
  {
   "cell_type": "code",
   "execution_count": 64,
   "metadata": {
    "colab": {
     "base_uri": "https://localhost:8080/",
     "height": 295
    },
    "id": "wE7KVyGpqYwW",
    "outputId": "1642b772-7f32-4db0-a046-b4b8d453ad17"
   },
   "outputs": [
    {
     "data": {
      "image/png": "[encoded data removed]",
      "text/plain": [
       "<Figure size 432x288 with 1 Axes>"
      ]
     },
     "metadata": {
      "needs_background": "light"
     },
     "output_type": "display_data"
    }
   ],
   "source": [
    "plt.plot(error)\n",
    "plt.xlabel('Epochs')\n",
    "plt.ylabel('Loss')\n",
    "plt.title('Training Loss')\n",
    "plt.show()"
   ]
  },
  {
   "cell_type": "code",
   "execution_count": 65,
   "metadata": {
    "colab": {
     "base_uri": "https://localhost:8080/"
    },
    "id": "efi6TVCdqa41",
    "outputId": "b40cf3d6-29d8-475e-9616-351954c0ef7a"
   },
   "outputs": [
    {
     "data": {
      "text/plain": [
       "array([[0, 1, 0, 0, 0, 0, 0, 2],\n",
       "       [1, 0, 0, 0, 0, 0, 0, 1],\n",
       "       [1, 0, 0, 0, 0, 0, 0, 0],\n",
       "       [0, 0, 0, 2, 0, 2, 0, 0],\n",
       "       [0, 0, 1, 1, 0, 0, 0, 0],\n",
       "       [0, 0, 0, 0, 0, 1, 0, 0],\n",
       "       [0, 0, 0, 0, 0, 0, 3, 0],\n",
       "       [0, 0, 0, 0, 0, 0, 0, 0]])"
      ]
     },
     "execution_count": 65,
     "metadata": {},
     "output_type": "execute_result"
    }
   ],
   "source": [
    "confmat = confusion_matrix(predicted.cpu().numpy(), labels.cpu().numpy())\n",
    "confmat"
   ]
  },
  {
   "cell_type": "code",
   "execution_count": 71,
   "metadata": {
    "id": "tp4O8AImqd8r"
   },
   "outputs": [],
   "source": [
    "\n"
   ]
  },
  {
   "cell_type": "code",
   "execution_count": null,
   "metadata": {
    "id": "LoPlpC-7rci2"
   },
   "outputs": [],
   "source": []
  }
 ],
 "metadata": {
  "accelerator": "GPU",
  "colab": {
   "collapsed_sections": [],
   "provenance": []
  },
  "kernelspec": {
   "display_name": "Python 3",
   "language": "python",
   "name": "python3"
  },
  "language_info": {
   "codemirror_mode": {
    "name": "ipython",
    "version": 3
   },
   "file_extension": ".py",
   "mimetype": "text/x-python",
   "name": "python",
   "nbconvert_exporter": "python",
   "pygments_lexer": "ipython3",
   "version": "3.8.8"
  },
  "widgets": {
   "application/vnd.jupyter.widget-state+json": {
    "1ad623545c2e45f7b103148d611f106e": {
     "model_module": "@jupyter-widgets/base",
     "model_module_version": "1.2.0",
     "model_name": "LayoutModel",
     "state": {
      "_model_module": "@jupyter-widgets/base",
      "_model_module_version": "1.2.0",
      "_model_name": "LayoutModel",
      "_view_count": null,
      "_view_module": "@jupyter-widgets/base",
      "_view_module_version": "1.2.0",
      "_view_name": "LayoutView",
      "align_content": null,
      "align_items": null,
      "align_self": null,
      "border": null,
      "bottom": null,
      "display": null,
      "flex": null,
      "flex_flow": null,
      "grid_area": null,
      "grid_auto_columns": null,
      "grid_auto_flow": null,
      "grid_auto_rows": null,
      "grid_column": null,
      "grid_gap": null,
      "grid_row": null,
      "grid_template_areas": null,
      "grid_template_columns": null,
      "grid_template_rows": null,
      "height": null,
      "justify_content": null,
      "justify_items": null,
      "left": null,
      "margin": null,
      "max_height": null,
      "max_width": null,
      "min_height": null,
      "min_width": null,
      "object_fit": null,
      "object_position": null,
      "order": null,
      "overflow": null,
      "overflow_x": null,
      "overflow_y": null,
      "padding": null,
      "right": null,
      "top": null,
      "visibility": null,
      "width": null
     }
    },
    "1b879c21a9b5467cb5f9c33d5960a19a": {
     "model_module": "@jupyter-widgets/controls",
     "model_module_version": "1.5.0",
     "model_name": "ProgressStyleModel",
     "state": {
      "_model_module": "@jupyter-widgets/controls",
      "_model_module_version": "1.5.0",
      "_model_name": "ProgressStyleModel",
      "_view_count": null,
      "_view_module": "@jupyter-widgets/base",
      "_view_module_version": "1.2.0",
      "_view_name": "StyleView",
      "bar_color": null,
      "description_width": ""
     }
    },
    "38a4d6c6752c48409f782a27048dd5e0": {
     "model_module": "@jupyter-widgets/base",
     "model_module_version": "1.2.0",
     "model_name": "LayoutModel",
     "state": {
      "_model_module": "@jupyter-widgets/base",
      "_model_module_version": "1.2.0",
      "_model_name": "LayoutModel",
      "_view_count": null,
      "_view_module": "@jupyter-widgets/base",
      "_view_module_version": "1.2.0",
      "_view_name": "LayoutView",
      "align_content": null,
      "align_items": null,
      "align_self": null,
      "border": null,
      "bottom": null,
      "display": null,
      "flex": null,
      "flex_flow": null,
      "grid_area": null,
      "grid_auto_columns": null,
      "grid_auto_flow": null,
      "grid_auto_rows": null,
      "grid_column": null,
      "grid_gap": null,
      "grid_row": null,
      "grid_template_areas": null,
      "grid_template_columns": null,
      "grid_template_rows": null,
      "height": null,
      "justify_content": null,
      "justify_items": null,
      "left": null,
      "margin": null,
      "max_height": null,
      "max_width": null,
      "min_height": null,
      "min_width": null,
      "object_fit": null,
      "object_position": null,
      "order": null,
      "overflow": null,
      "overflow_x": null,
      "overflow_y": null,
      "padding": null,
      "right": null,
      "top": null,
      "visibility": null,
      "width": null
     }
    },
    "38f17b352a6c42b1a588943a1c2d48a0": {
     "model_module": "@jupyter-widgets/controls",
     "model_module_version": "1.5.0",
     "model_name": "ProgressStyleModel",
     "state": {
      "_model_module": "@jupyter-widgets/controls",
      "_model_module_version": "1.5.0",
      "_model_name": "ProgressStyleModel",
      "_view_count": null,
      "_view_module": "@jupyter-widgets/base",
      "_view_module_version": "1.2.0",
      "_view_name": "StyleView",
      "bar_color": null,
      "description_width": ""
     }
    },
    "524ec97a3e1148c583191cdc9b829151": {
     "model_module": "@jupyter-widgets/controls",
     "model_module_version": "1.5.0",
     "model_name": "DescriptionStyleModel",
     "state": {
      "_model_module": "@jupyter-widgets/controls",
      "_model_module_version": "1.5.0",
      "_model_name": "DescriptionStyleModel",
      "_view_count": null,
      "_view_module": "@jupyter-widgets/base",
      "_view_module_version": "1.2.0",
      "_view_name": "StyleView",
      "description_width": ""
     }
    },
    "62ea10c3555940e18bdec7530f8bd941": {
     "model_module": "@jupyter-widgets/controls",
     "model_module_version": "1.5.0",
     "model_name": "HBoxModel",
     "state": {
      "_dom_classes": [],
      "_model_module": "@jupyter-widgets/controls",
      "_model_module_version": "1.5.0",
      "_model_name": "HBoxModel",
      "_view_count": null,
      "_view_module": "@jupyter-widgets/controls",
      "_view_module_version": "1.5.0",
      "_view_name": "HBoxView",
      "box_style": "",
      "children": [
       "IPY_MODEL_cbdb41fb9e094c7ab593cfdd1a7ece22",
       "IPY_MODEL_8da6ea8150ec475b89c5163ce122a9c1",
       "IPY_MODEL_7bf23f22054e408cbd2a92aba3d63005"
      ],
      "layout": "IPY_MODEL_a1a51cf99dd7434383d2f43fcf981be4"
     }
    },
    "6349b983e55a46f2a45e996130d1bc75": {
     "model_module": "@jupyter-widgets/base",
     "model_module_version": "1.2.0",
     "model_name": "LayoutModel",
     "state": {
      "_model_module": "@jupyter-widgets/base",
      "_model_module_version": "1.2.0",
      "_model_name": "LayoutModel",
      "_view_count": null,
      "_view_module": "@jupyter-widgets/base",
      "_view_module_version": "1.2.0",
      "_view_name": "LayoutView",
      "align_content": null,
      "align_items": null,
      "align_self": null,
      "border": null,
      "bottom": null,
      "display": null,
      "flex": null,
      "flex_flow": null,
      "grid_area": null,
      "grid_auto_columns": null,
      "grid_auto_flow": null,
      "grid_auto_rows": null,
      "grid_column": null,
      "grid_gap": null,
      "grid_row": null,
      "grid_template_areas": null,
      "grid_template_columns": null,
      "grid_template_rows": null,
      "height": null,
      "justify_content": null,
      "justify_items": null,
      "left": null,
      "margin": null,
      "max_height": null,
      "max_width": null,
      "min_height": null,
      "min_width": null,
      "object_fit": null,
      "object_position": null,
      "order": null,
      "overflow": null,
      "overflow_x": null,
      "overflow_y": null,
      "padding": null,
      "right": null,
      "top": null,
      "visibility": null,
      "width": null
     }
    },
    "6de4dae338964431bafffd4018afa16d": {
     "model_module": "@jupyter-widgets/controls",
     "model_module_version": "1.5.0",
     "model_name": "HTMLModel",
     "state": {
      "_dom_classes": [],
      "_model_module": "@jupyter-widgets/controls",
      "_model_module_version": "1.5.0",
      "_model_name": "HTMLModel",
      "_view_count": null,
      "_view_module": "@jupyter-widgets/controls",
      "_view_module_version": "1.5.0",
      "_view_name": "HTMLView",
      "description": "",
      "description_tooltip": null,
      "layout": "IPY_MODEL_833bea657e9442618a8238c8f8abe6d1",
      "placeholder": "​",
      "style": "IPY_MODEL_7ae7bdafefb147399a2b8d3f073e25e9",
      "value": "100%"
     }
    },
    "7ae7bdafefb147399a2b8d3f073e25e9": {
     "model_module": "@jupyter-widgets/controls",
     "model_module_version": "1.5.0",
     "model_name": "DescriptionStyleModel",
     "state": {
      "_model_module": "@jupyter-widgets/controls",
      "_model_module_version": "1.5.0",
      "_model_name": "DescriptionStyleModel",
      "_view_count": null,
      "_view_module": "@jupyter-widgets/base",
      "_view_module_version": "1.2.0",
      "_view_name": "StyleView",
      "description_width": ""
     }
    },
    "7bf23f22054e408cbd2a92aba3d63005": {
     "model_module": "@jupyter-widgets/controls",
     "model_module_version": "1.5.0",
     "model_name": "HTMLModel",
     "state": {
      "_dom_classes": [],
      "_model_module": "@jupyter-widgets/controls",
      "_model_module_version": "1.5.0",
      "_model_name": "HTMLModel",
      "_view_count": null,
      "_view_module": "@jupyter-widgets/controls",
      "_view_module_version": "1.5.0",
      "_view_name": "HTMLView",
      "description": "",
      "description_tooltip": null,
      "layout": "IPY_MODEL_1ad623545c2e45f7b103148d611f106e",
      "placeholder": "​",
      "style": "IPY_MODEL_ed04780b2d644273b900c20e513e7e98",
      "value": " 507M/507M [00:02&lt;00:00, 235MB/s]"
     }
    },
    "833bea657e9442618a8238c8f8abe6d1": {
     "model_module": "@jupyter-widgets/base",
     "model_module_version": "1.2.0",
     "model_name": "LayoutModel",
     "state": {
      "_model_module": "@jupyter-widgets/base",
      "_model_module_version": "1.2.0",
      "_model_name": "LayoutModel",
      "_view_count": null,
      "_view_module": "@jupyter-widgets/base",
      "_view_module_version": "1.2.0",
      "_view_name": "LayoutView",
      "align_content": null,
      "align_items": null,
      "align_self": null,
      "border": null,
      "bottom": null,
      "display": null,
      "flex": null,
      "flex_flow": null,
      "grid_area": null,
      "grid_auto_columns": null,
      "grid_auto_flow": null,
      "grid_auto_rows": null,
      "grid_column": null,
      "grid_gap": null,
      "grid_row": null,
      "grid_template_areas": null,
      "grid_template_columns": null,
      "grid_template_rows": null,
      "height": null,
      "justify_content": null,
      "justify_items": null,
      "left": null,
      "margin": null,
      "max_height": null,
      "max_width": null,
      "min_height": null,
      "min_width": null,
      "object_fit": null,
      "object_position": null,
      "order": null,
      "overflow": null,
      "overflow_x": null,
      "overflow_y": null,
      "padding": null,
      "right": null,
      "top": null,
      "visibility": null,
      "width": null
     }
    },
    "8da6ea8150ec475b89c5163ce122a9c1": {
     "model_module": "@jupyter-widgets/controls",
     "model_module_version": "1.5.0",
     "model_name": "FloatProgressModel",
     "state": {
      "_dom_classes": [],
      "_model_module": "@jupyter-widgets/controls",
      "_model_module_version": "1.5.0",
      "_model_name": "FloatProgressModel",
      "_view_count": null,
      "_view_module": "@jupyter-widgets/controls",
      "_view_module_version": "1.5.0",
      "_view_name": "ProgressView",
      "bar_style": "success",
      "description": "",
      "description_tooltip": null,
      "layout": "IPY_MODEL_c303fce50715449e94e53ddae0aacf02",
      "max": 531460341,
      "min": 0,
      "orientation": "horizontal",
      "style": "IPY_MODEL_1b879c21a9b5467cb5f9c33d5960a19a",
      "value": 531460341
     }
    },
    "94bc74aa45844799ace3ff626264656d": {
     "model_module": "@jupyter-widgets/controls",
     "model_module_version": "1.5.0",
     "model_name": "HTMLModel",
     "state": {
      "_dom_classes": [],
      "_model_module": "@jupyter-widgets/controls",
      "_model_module_version": "1.5.0",
      "_model_name": "HTMLModel",
      "_view_count": null,
      "_view_module": "@jupyter-widgets/controls",
      "_view_module_version": "1.5.0",
      "_view_name": "HTMLView",
      "description": "",
      "description_tooltip": null,
      "layout": "IPY_MODEL_38a4d6c6752c48409f782a27048dd5e0",
      "placeholder": "​",
      "style": "IPY_MODEL_524ec97a3e1148c583191cdc9b829151",
      "value": " 170498071/170498071 [00:10&lt;00:00, 34625896.91it/s]"
     }
    },
    "9c6921712fd042b09a4a75e1b9cab854": {
     "model_module": "@jupyter-widgets/controls",
     "model_module_version": "1.5.0",
     "model_name": "DescriptionStyleModel",
     "state": {
      "_model_module": "@jupyter-widgets/controls",
      "_model_module_version": "1.5.0",
      "_model_name": "DescriptionStyleModel",
      "_view_count": null,
      "_view_module": "@jupyter-widgets/base",
      "_view_module_version": "1.2.0",
      "_view_name": "StyleView",
      "description_width": ""
     }
    },
    "a1a51cf99dd7434383d2f43fcf981be4": {
     "model_module": "@jupyter-widgets/base",
     "model_module_version": "1.2.0",
     "model_name": "LayoutModel",
     "state": {
      "_model_module": "@jupyter-widgets/base",
      "_model_module_version": "1.2.0",
      "_model_name": "LayoutModel",
      "_view_count": null,
      "_view_module": "@jupyter-widgets/base",
      "_view_module_version": "1.2.0",
      "_view_name": "LayoutView",
      "align_content": null,
      "align_items": null,
      "align_self": null,
      "border": null,
      "bottom": null,
      "display": null,
      "flex": null,
      "flex_flow": null,
      "grid_area": null,
      "grid_auto_columns": null,
      "grid_auto_flow": null,
      "grid_auto_rows": null,
      "grid_column": null,
      "grid_gap": null,
      "grid_row": null,
      "grid_template_areas": null,
      "grid_template_columns": null,
      "grid_template_rows": null,
      "height": null,
      "justify_content": null,
      "justify_items": null,
      "left": null,
      "margin": null,
      "max_height": null,
      "max_width": null,
      "min_height": null,
      "min_width": null,
      "object_fit": null,
      "object_position": null,
      "order": null,
      "overflow": null,
      "overflow_x": null,
      "overflow_y": null,
      "padding": null,
      "right": null,
      "top": null,
      "visibility": null,
      "width": null
     }
    },
    "a9ed9c2bc117414ea393185ee71c5a16": {
     "model_module": "@jupyter-widgets/controls",
     "model_module_version": "1.5.0",
     "model_name": "FloatProgressModel",
     "state": {
      "_dom_classes": [],
      "_model_module": "@jupyter-widgets/controls",
      "_model_module_version": "1.5.0",
      "_model_name": "FloatProgressModel",
      "_view_count": null,
      "_view_module": "@jupyter-widgets/controls",
      "_view_module_version": "1.5.0",
      "_view_name": "ProgressView",
      "bar_style": "success",
      "description": "",
      "description_tooltip": null,
      "layout": "IPY_MODEL_e2fb0dc04e9b48648af34d79f838d012",
      "max": 170498071,
      "min": 0,
      "orientation": "horizontal",
      "style": "IPY_MODEL_38f17b352a6c42b1a588943a1c2d48a0",
      "value": 170498071
     }
    },
    "c303fce50715449e94e53ddae0aacf02": {
     "model_module": "@jupyter-widgets/base",
     "model_module_version": "1.2.0",
     "model_name": "LayoutModel",
     "state": {
      "_model_module": "@jupyter-widgets/base",
      "_model_module_version": "1.2.0",
      "_model_name": "LayoutModel",
      "_view_count": null,
      "_view_module": "@jupyter-widgets/base",
      "_view_module_version": "1.2.0",
      "_view_name": "LayoutView",
      "align_content": null,
      "align_items": null,
      "align_self": null,
      "border": null,
      "bottom": null,
      "display": null,
      "flex": null,
      "flex_flow": null,
      "grid_area": null,
      "grid_auto_columns": null,
      "grid_auto_flow": null,
      "grid_auto_rows": null,
      "grid_column": null,
      "grid_gap": null,
      "grid_row": null,
      "grid_template_areas": null,
      "grid_template_columns": null,
      "grid_template_rows": null,
      "height": null,
      "justify_content": null,
      "justify_items": null,
      "left": null,
      "margin": null,
      "max_height": null,
      "max_width": null,
      "min_height": null,
      "min_width": null,
      "object_fit": null,
      "object_position": null,
      "order": null,
      "overflow": null,
      "overflow_x": null,
      "overflow_y": null,
      "padding": null,
      "right": null,
      "top": null,
      "visibility": null,
      "width": null
     }
    },
    "cbdb41fb9e094c7ab593cfdd1a7ece22": {
     "model_module": "@jupyter-widgets/controls",
     "model_module_version": "1.5.0",
     "model_name": "HTMLModel",
     "state": {
      "_dom_classes": [],
      "_model_module": "@jupyter-widgets/controls",
      "_model_module_version": "1.5.0",
      "_model_name": "HTMLModel",
      "_view_count": null,
      "_view_module": "@jupyter-widgets/controls",
      "_view_module_version": "1.5.0",
      "_view_name": "HTMLView",
      "description": "",
      "description_tooltip": null,
      "layout": "IPY_MODEL_6349b983e55a46f2a45e996130d1bc75",
      "placeholder": "​",
      "style": "IPY_MODEL_9c6921712fd042b09a4a75e1b9cab854",
      "value": "100%"
     }
    },
    "d5728088e74e4977a013c3d248954107": {
     "model_module": "@jupyter-widgets/controls",
     "model_module_version": "1.5.0",
     "model_name": "HBoxModel",
     "state": {
      "_dom_classes": [],
      "_model_module": "@jupyter-widgets/controls",
      "_model_module_version": "1.5.0",
      "_model_name": "HBoxModel",
      "_view_count": null,
      "_view_module": "@jupyter-widgets/controls",
      "_view_module_version": "1.5.0",
      "_view_name": "HBoxView",
      "box_style": "",
      "children": [
       "IPY_MODEL_6de4dae338964431bafffd4018afa16d",
       "IPY_MODEL_a9ed9c2bc117414ea393185ee71c5a16",
       "IPY_MODEL_94bc74aa45844799ace3ff626264656d"
      ],
      "layout": "IPY_MODEL_faf80a244e634315995df75a702d0427"
     }
    },
    "e2fb0dc04e9b48648af34d79f838d012": {
     "model_module": "@jupyter-widgets/base",
     "model_module_version": "1.2.0",
     "model_name": "LayoutModel",
     "state": {
      "_model_module": "@jupyter-widgets/base",
      "_model_module_version": "1.2.0",
      "_model_name": "LayoutModel",
      "_view_count": null,
      "_view_module": "@jupyter-widgets/base",
      "_view_module_version": "1.2.0",
      "_view_name": "LayoutView",
      "align_content": null,
      "align_items": null,
      "align_self": null,
      "border": null,
      "bottom": null,
      "display": null,
      "flex": null,
      "flex_flow": null,
      "grid_area": null,
      "grid_auto_columns": null,
      "grid_auto_flow": null,
      "grid_auto_rows": null,
      "grid_column": null,
      "grid_gap": null,
      "grid_row": null,
      "grid_template_areas": null,
      "grid_template_columns": null,
      "grid_template_rows": null,
      "height": null,
      "justify_content": null,
      "justify_items": null,
      "left": null,
      "margin": null,
      "max_height": null,
      "max_width": null,
      "min_height": null,
      "min_width": null,
      "object_fit": null,
      "object_position": null,
      "order": null,
      "overflow": null,
      "overflow_x": null,
      "overflow_y": null,
      "padding": null,
      "right": null,
      "top": null,
      "visibility": null,
      "width": null
     }
    },
    "ed04780b2d644273b900c20e513e7e98": {
     "model_module": "@jupyter-widgets/controls",
     "model_module_version": "1.5.0",
     "model_name": "DescriptionStyleModel",
     "state": {
      "_model_module": "@jupyter-widgets/controls",
      "_model_module_version": "1.5.0",
      "_model_name": "DescriptionStyleModel",
      "_view_count": null,
      "_view_module": "@jupyter-widgets/base",
      "_view_module_version": "1.2.0",
      "_view_name": "StyleView",
      "description_width": ""
     }
    },
    "faf80a244e634315995df75a702d0427": {
     "model_module": "@jupyter-widgets/base",
     "model_module_version": "1.2.0",
     "model_name": "LayoutModel",
     "state": {
      "_model_module": "@jupyter-widgets/base",
      "_model_module_version": "1.2.0",
      "_model_name": "LayoutModel",
      "_view_count": null,
      "_view_module": "@jupyter-widgets/base",
      "_view_module_version": "1.2.0",
      "_view_name": "LayoutView",
      "align_content": null,
      "align_items": null,
      "align_self": null,
      "border": null,
      "bottom": null,
      "display": null,
      "flex": null,
      "flex_flow": null,
      "grid_area": null,
      "grid_auto_columns": null,
      "grid_auto_flow": null,
      "grid_auto_rows": null,
      "grid_column": null,
      "grid_gap": null,
      "grid_row": null,
      "grid_template_areas": null,
      "grid_template_columns": null,
      "grid_template_rows": null,
      "height": null,
      "justify_content": null,
      "justify_items": null,
      "left": null,
      "margin": null,
      "max_height": null,
      "max_width": null,
      "min_height": null,
      "min_width": null,
      "object_fit": null,
      "object_position": null,
      "order": null,
      "overflow": null,
      "overflow_x": null,
      "overflow_y": null,
      "padding": null,
      "right": null,
      "top": null,
      "visibility": null,
      "width": null
     }
    }
   }
  }
 },
 "nbformat": 4,
 "nbformat_minor": 1
}
