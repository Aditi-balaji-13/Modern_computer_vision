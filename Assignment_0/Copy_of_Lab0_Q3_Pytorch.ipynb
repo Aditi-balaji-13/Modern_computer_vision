{
  "nbformat": 4,
  "nbformat_minor": 0,
  "metadata": {
    "colab": {
      "name": "Copy of Lab0_Q3_Pytorch.ipynb",
      "provenance": [],
      "collapsed_sections": [],
      "toc_visible": true
    },
    "kernelspec": {
      "name": "python3",
      "display_name": "Python 3"
    },
    "language_info": {
      "name": "python"
    }
  },
  "cells": [
    {
      "cell_type": "code",
      "metadata": {
        "id": "alrXoCflGKM8",
        "colab": {
          "base_uri": "https://localhost:8080/"
        },
        "outputId": "a8b5e916-c7be-4aa0-ffd5-573a7201cfd6"
      },
      "source": [
        "import numpy as np\n",
        "print(np.__version__)\n",
        "import torch\n",
        "print(torch.__version__)\n",
        "import torch.nn.functional as F\n",
        "import matplotlib.pylab as plt"
      ],
      "execution_count": null,
      "outputs": [
        {
          "output_type": "stream",
          "name": "stdout",
          "text": [
            "1.21.6\n",
            "1.12.0+cu113\n"
          ]
        }
      ]
    },
    {
      "cell_type": "markdown",
      "metadata": {
        "id": "kkoWEQE4jf1V"
      },
      "source": [
        "# Pytorch Basics:\n"
      ]
    },
    {
      "cell_type": "markdown",
      "metadata": {
        "id": "MiTN0fMclcwt"
      },
      "source": [
        "**Exercise #1:** Torch Tensors\n",
        "\n",
        "**Your Task**: Convert the list to a tensor and check its properties.\n",
        "\n",
        "*   the following list of integers <i>[0, 1, 2, 3, 4]</i> to a torch *int* tensor.\n",
        "*   the following float list <i>[0.0, 1.0, 2.0, 3.0, 4.0]</i> to a torch *float* tensor.\n",
        "*   Convert the torch int tensor to torch float tensor.\n",
        "\n"
      ]
    },
    {
      "cell_type": "code",
      "metadata": {
        "id": "qIupvreRjfFL",
        "colab": {
          "base_uri": "https://localhost:8080/"
        },
        "outputId": "de865aa7-a842-4ae2-f194-c9a783e9d835"
      },
      "source": [
        "# Convert a integer list with length 5 to a tensor\n",
        "int_list = [1,2,3,4,5]\n",
        "# YOUR CODE STARTS HERE\n",
        "ints_to_tensor = torch.tensor(int_list)\n",
        "#YOUR CODE ENDS HERE\n",
        "print(\"The dtype of tensor object after converting it to tensor: \", ints_to_tensor.dtype)\n",
        "print(\"The type of tensor object after converting it to tensor: \", ints_to_tensor.type())\n",
        "print(\"The size of the ints_to_tensor: \", ints_to_tensor.size())\n",
        "print(\"The dimension of the ints_to_tensor: \",ints_to_tensor.ndimension())\n"
      ],
      "execution_count": null,
      "outputs": [
        {
          "output_type": "stream",
          "name": "stdout",
          "text": [
            "The dtype of tensor object after converting it to tensor:  torch.int64\n",
            "The type of tensor object after converting it to tensor:  torch.LongTensor\n",
            "The size of the ints_to_tensor:  torch.Size([5])\n",
            "The dimension of the ints_to_tensor:  1\n"
          ]
        }
      ]
    },
    {
      "cell_type": "code",
      "metadata": {
        "id": "cjxqGezqL2gC",
        "colab": {
          "base_uri": "https://localhost:8080/"
        },
        "outputId": "cb4ed524-76dd-45fe-d462-c62c5e552cc9"
      },
      "source": [
        "# Convert a float list with length 5 to a tensor\n",
        "float_list = [0.0, 1.0, 2.0, 3.0, 4.0]\n",
        "# YOUR CODE STARTS HERE\n",
        "floats_to_tensor = torch.tensor(float_list)\n",
        "#YOUR CODE ENDS HERE\n",
        "\n",
        "print(\"The dtype of tensor object after converting it to tensor: \", floats_to_tensor.dtype)\n",
        "print(\"The type of tensor object after converting it to tensor: \", floats_to_tensor.type())\n",
        "print(\"The size of the floats_to_tensor: \", floats_to_tensor.size())\n",
        "print(\"The dimension of the floats_to_tensor: \",floats_to_tensor.ndimension())"
      ],
      "execution_count": null,
      "outputs": [
        {
          "output_type": "stream",
          "name": "stdout",
          "text": [
            "The dtype of tensor object after converting it to tensor:  torch.float32\n",
            "The type of tensor object after converting it to tensor:  torch.FloatTensor\n",
            "The size of the floats_to_tensor:  torch.Size([5])\n",
            "The dimension of the floats_to_tensor:  1\n"
          ]
        }
      ]
    },
    {
      "cell_type": "code",
      "metadata": {
        "id": "j7g2AIN4MioI",
        "colab": {
          "base_uri": "https://localhost:8080/"
        },
        "outputId": "97bb3afc-02a4-4906-d433-806fa8df2754"
      },
      "source": [
        "# Convert the integer list to float tensor\n",
        "old_int_tensor = torch.tensor([0, 1, 2, 3, 4])\n",
        "# YOUR CODE STARTS HERE\n",
        "new_float_tensor = torch.FloatTensor([0, 1, 2, 3, 4])\n",
        "#YOUR CODE ENDS HERE\n",
        "\n",
        "print(\"The type of the new_float_tensor:\", new_float_tensor.type())\n",
        "print(\"The size of the new_float_tensor: \", new_float_tensor.size())\n",
        "print(\"The dimension of the new_float_tensor: \",new_float_tensor.ndimension())"
      ],
      "execution_count": null,
      "outputs": [
        {
          "output_type": "stream",
          "name": "stdout",
          "text": [
            "The type of the new_float_tensor: torch.FloatTensor\n",
            "The size of the new_float_tensor:  torch.Size([5])\n",
            "The dimension of the new_float_tensor:  1\n"
          ]
        }
      ]
    },
    {
      "cell_type": "markdown",
      "metadata": {
        "id": "moNAyO_qN3oe"
      },
      "source": [
        "**Exercise #2:** 2D Torch Tensors and 2D numpy arrays\n",
        "\n",
        "**Your Task**: numpy vs. torch\n",
        "\n",
        "*   Convert the given numpy array to a torch tensor; And torch tensor to a numpy array\n"
      ]
    },
    {
      "cell_type": "code",
      "metadata": {
        "id": "JV9SfnYAN2y_",
        "colab": {
          "base_uri": "https://localhost:8080/"
        },
        "outputId": "0476a69b-86a8-4272-ae14-f23cf558105a"
      },
      "source": [
        "twoD_list = [[11, 12, 13], [21, 22, 23], [31, 32, 33]]\n",
        "twoD_numpy = np.asarray(twoD_list)\n",
        "print(\"The numpy array: \", twoD_numpy)\n",
        "print(\"Type : \", twoD_numpy.dtype)\n",
        "\n",
        "# Convert numpy array to tensor\n",
        "# YOUR CODE STARTS HERE\n",
        "twoD_tensor = torch.from_numpy(twoD_numpy)\n",
        "#YOUR CODE ENDS HERE\n",
        "print(\"\\nNumpy Array -> Tensor:\")\n",
        "print(\"The tensor after converting:\", twoD_tensor)\n",
        "print(\"Type after converting: \", twoD_tensor.dtype)\n",
        "\n",
        "# Convert torch tensor to numpy array\n",
        "# YOUR CODE STARTS HERE\n",
        "new_twoD_numpy = twoD_tensor.numpy()\n",
        "#YOUR CODE ENDS HERE\n",
        "print(\"\\nTensor -> Numpy Array:\")\n",
        "print(\"The numpy array after converting: \", new_twoD_numpy)\n",
        "print(\"Type after converting: \", new_twoD_numpy.dtype)\n"
      ],
      "execution_count": null,
      "outputs": [
        {
          "output_type": "stream",
          "name": "stdout",
          "text": [
            "The numpy array:  [[11 12 13]\n",
            " [21 22 23]\n",
            " [31 32 33]]\n",
            "Type :  int64\n",
            "\n",
            "Numpy Array -> Tensor:\n",
            "The tensor after converting: tensor([[11, 12, 13],\n",
            "        [21, 22, 23],\n",
            "        [31, 32, 33]])\n",
            "Type after converting:  torch.int64\n",
            "\n",
            "Tensor -> Numpy Array:\n",
            "The numpy array after converting:  [[11 12 13]\n",
            " [21 22 23]\n",
            " [31 32 33]]\n",
            "Type after converting:  int64\n"
          ]
        }
      ]
    },
    {
      "cell_type": "markdown",
      "metadata": {
        "id": "7ATEG19PPqsn"
      },
      "source": [
        "**Exercise #3:** 2D Torch Tensors and 2D numpy arrays\n",
        "\n",
        "**Your Task**: Access the different elements of the tensor `twoD_tensor` and numpyarray `twoD_numpy`.\n",
        "\n"
      ]
    },
    {
      "cell_type": "code",
      "metadata": {
        "id": "oWuHGIbnPrjX",
        "colab": {
          "base_uri": "https://localhost:8080/"
        },
        "outputId": "a5e19c78-19d8-420a-9188-ec54d06adfbb"
      },
      "source": [
        "# Slice rows 2nd and 3rd row\n",
        "# YOUR CODE STARTS HERE\n",
        "sliced_tensor = twoD_tensor[[1,2]]\n",
        "sliced_numpy = new_twoD_numpy[[1,2]]\n",
        "# YOUR CODE STARTS HERE\n",
        "\n",
        "print(\"Tensor: Result after tensor slicing \", sliced_tensor)\n",
        "print(\"Tensor: Dimension after tensor slicing \", sliced_tensor.ndimension())\n",
        "print(\"Numpy: Result after np slicing: \", sliced_numpy)\n",
        "print(\"Numpy: Dimension after np slicing: \", sliced_numpy.ndim)"
      ],
      "execution_count": null,
      "outputs": [
        {
          "output_type": "stream",
          "name": "stdout",
          "text": [
            "Tensor: Result after tensor slicing  tensor([[21, 22, 23],\n",
            "        [31, 32, 33]])\n",
            "Tensor: Dimension after tensor slicing  2\n",
            "Numpy: Result after np slicing:  [[21 22 23]\n",
            " [31 32 33]]\n",
            "Numpy: Dimension after np slicing:  2\n"
          ]
        }
      ]
    },
    {
      "cell_type": "markdown",
      "metadata": {
        "id": "O52E8XJJRxtc"
      },
      "source": [
        "<h2 id=\"Tensor_Op\">Tensor Operations</h2> "
      ]
    },
    {
      "cell_type": "markdown",
      "metadata": {
        "id": "_1suut6QGZvp"
      },
      "source": [
        "**Exercise #4:** Dot Product\n",
        "\n",
        "In this task, you will implement the dot product function for numpy arrays & torch tensors.\n",
        "\n",
        "The dot product (also known as the scalar product or inner product) is the linear combination of the n real components of two vectors.\n",
        "\n",
        "$$x \\cdot y = x_1 y_1 + x_2 y_2 + \\cdots + x_n y_n$$\n",
        "\n",
        "**Your Task**: Implement the functions `NUMPY_dot` & `PYTORCH_dot`."
      ]
    },
    {
      "cell_type": "code",
      "metadata": {
        "id": "6rNTB943Gjgw"
      },
      "source": [
        "def NUMPY_dot(x, y):\n",
        "    \"\"\"\n",
        "    Dot product of two arrays.\n",
        "\n",
        "    Parameters: \n",
        "    x (numpy.ndarray): 1-dimensional numpy array.\n",
        "    y (numpy.ndarray): 1-dimensional numpy array.\n",
        "\n",
        "    Returns: \n",
        "    numpy.int64: scalar quantity.\n",
        "    \"\"\"\n",
        "    # YOUR CODE STARTS HERE\n",
        "    nd = np.dot(x, y)\n",
        "    # YOUR CODE ends HERE\n",
        "\n",
        "    return nd"
      ],
      "execution_count": null,
      "outputs": []
    },
    {
      "cell_type": "code",
      "metadata": {
        "id": "MdpNs2pAGlEF"
      },
      "source": [
        "def PYTORCH_dot(x, y):\n",
        "    \"\"\"\n",
        "    Dot product of two tensors.\n",
        "\n",
        "    Parameters: \n",
        "    x (torch.Tensor): 1-dimensional torch tensor.\n",
        "    y (torch.Tensor): 1-dimensional torch tensor.\n",
        "\n",
        "    Returns: \n",
        "    torch.int64: scalar quantity.\n",
        "    \"\"\"\n",
        "    # YOUR CODE STARTS HERE\n",
        "    num = torch.dot(x, y)\n",
        "    # YOUR CODE ends HERE\n",
        "\n",
        "    return num"
      ],
      "execution_count": null,
      "outputs": []
    },
    {
      "cell_type": "code",
      "metadata": {
        "id": "VStlPUWhUTnd",
        "colab": {
          "base_uri": "https://localhost:8080/"
        },
        "outputId": "3357cfd0-e774-479d-a197-42fc1c175810"
      },
      "source": [
        "# TEST cases\n",
        "X = np.asarray([1,2,3])\n",
        "Y = np.asarray([4,-5,6])\n",
        "print(f'NUMPY: Dot product of {X} and {Y} is {NUMPY_dot(X,Y)}')\n",
        "assert NUMPY_dot(X,Y)==12\n",
        "\n",
        "X = torch.from_numpy(X)\n",
        "Y = torch.from_numpy(Y)\n",
        "print(f'Pytorch: Dot product of {X} and {Y} is {PYTORCH_dot(X,Y)}')\n",
        "assert PYTORCH_dot(X,Y).item()==12"
      ],
      "execution_count": null,
      "outputs": [
        {
          "output_type": "stream",
          "name": "stdout",
          "text": [
            "NUMPY: Dot product of [1 2 3] and [ 4 -5  6] is 12\n",
            "Pytorch: Dot product of tensor([1, 2, 3]) and tensor([ 4, -5,  6]) is 12\n"
          ]
        }
      ]
    },
    {
      "cell_type": "markdown",
      "metadata": {
        "id": "21DOFINXGNCf"
      },
      "source": [
        "**Exercise #5:** Outer Product\n",
        "\n",
        "In this task, you will implement the outer product function for numpy arrays & torch tensors.\n",
        "\n",
        "The outer product (also known as the tensor product) of vectors x and y is defined as\n",
        "\n",
        "$$\n",
        "x \\otimes y =\n",
        "\\begin{bmatrix}\n",
        "x_1 y_1 & x_1 y_2 & … & x_1 y_n\\\\\n",
        "x_2 y_1 & x_2 y_2 & … & x_2 y_n\\\\\n",
        "⋮ & ⋮ & ⋱ & ⋮ \\\\\n",
        "x_m y_1 & x_m y_2 & … & x_m y_n\n",
        "\\end{bmatrix}\n",
        "$$\n",
        "\n",
        "**Your Task**: Implement the functions `NUMPY_outer` & `PYTORCH_outer`."
      ]
    },
    {
      "cell_type": "code",
      "metadata": {
        "id": "2Hm0jLIDGOJX"
      },
      "source": [
        "def NUMPY_outer(x, y):\n",
        "    \"\"\"\n",
        "    Compute the outer product of two vectors.\n",
        "\n",
        "    Parameters: \n",
        "    x (numpy.ndarray): 1-dimensional numpy array.\n",
        "    y (numpy.ndarray): 1-dimensional numpy array.\n",
        "\n",
        "    Returns: \n",
        "    numpy.ndarray: 2-dimensional numpy array.\n",
        "    \"\"\"\n",
        "    # YOUR CODE STARTS HERE\n",
        "    out = np.outer(x,y)\n",
        "    # YOUR CODE ends HERE\n",
        "\n",
        "    return out"
      ],
      "execution_count": null,
      "outputs": []
    },
    {
      "cell_type": "code",
      "metadata": {
        "id": "DEFE0kPkVR3d"
      },
      "source": [
        "def PYTORCH_outer(x, y):\n",
        "    \"\"\"\n",
        "    Compute the outer product of two vectors.\n",
        "\n",
        "    Parameters: \n",
        "    x (torch.Tensor): 1-dimensional torch tensor.\n",
        "    y (torch.Tensor): 1-dimensional torch tensor.\n",
        "\n",
        "    Returns: \n",
        "    torch.Tensor: 2-dimensional torch tensor.\n",
        "    \"\"\"\n",
        "    # YOUR CODE STARTS HERE\n",
        "    out = torch.outer(x,y)\n",
        "\n",
        "    # YOUR CODE ends HERE\n",
        "\n",
        "    return out"
      ],
      "execution_count": null,
      "outputs": []
    },
    {
      "cell_type": "code",
      "metadata": {
        "id": "45jAXfICVTE3",
        "colab": {
          "base_uri": "https://localhost:8080/"
        },
        "outputId": "3ad5e7c9-8aaa-4866-84b4-21c79ce9d576"
      },
      "source": [
        "# TEST cases\n",
        "X = np.asarray([1,2])\n",
        "Y = np.asarray([1,3])\n",
        "print(f'NUMPY: Dot product of {X} and {Y} is \\n{NUMPY_outer(X,Y)}')\n",
        "\n",
        "x = np.array(['a', 'b', 'c'], dtype=object)\n",
        "print(f'NUMPY: Dot product of {X} and {Y} is \\n{NUMPY_outer(x, [1, 2, 3])}')\n",
        "\n",
        "X = torch.from_numpy(X)\n",
        "Y = torch.from_numpy(Y)\n",
        "print(f'Pytorch: Dot product of {X} and {Y} is \\n{PYTORCH_outer(X,Y)}')"
      ],
      "execution_count": null,
      "outputs": [
        {
          "output_type": "stream",
          "name": "stdout",
          "text": [
            "NUMPY: Dot product of [1 2] and [1 3] is \n",
            "[[1 3]\n",
            " [2 6]]\n",
            "NUMPY: Dot product of [1 2] and [1 3] is \n",
            "[['a' 'aa' 'aaa']\n",
            " ['b' 'bb' 'bbb']\n",
            " ['c' 'cc' 'ccc']]\n",
            "Pytorch: Dot product of tensor([1, 2]) and tensor([1, 3]) is \n",
            "tensor([[1, 3],\n",
            "        [2, 6]])\n"
          ]
        }
      ]
    },
    {
      "cell_type": "markdown",
      "metadata": {
        "id": "SQotAIuzYiqM"
      },
      "source": [
        "**Exercise #6:** Hadamard Product\n",
        "\n",
        "In this task, you will implement the Hadamard product function, `multiply`, for numpy arrays & torch tensors.\n",
        "\n",
        "The Hadamard product (also known as the Schur product or entrywise product) of vectors x and y is defined as\n",
        "\n",
        "$$\n",
        "x \\circ y =\n",
        "\\begin{bmatrix}\n",
        "x_{1} y_{1} & x_{2} y_{2} & … & x_{n} y_{n}\n",
        "\\end{bmatrix}\n",
        "$$\n",
        "\n",
        "**Your Task**: Implement the functions `NUMPY_multiply` & `PYTORCH_multiply`."
      ]
    },
    {
      "cell_type": "code",
      "metadata": {
        "id": "y9_9W6BCYjmr"
      },
      "source": [
        "def NUMPY_multiply(x, y):\n",
        "    \"\"\"\n",
        "    Multiply arguments element-wise.\n",
        "\n",
        "    Parameters: \n",
        "    x (numpy.ndarray): 1-dimensional numpy array.\n",
        "    y (numpy.ndarray): 1-dimensional numpy array.\n",
        "\n",
        "    Returns: \n",
        "    numpy.ndarray: 1-dimensional numpy array.\n",
        "    \"\"\"\n",
        "    # YOUR CODE STARTS HERE\n",
        "    mult = np.multiply(x, y)\n",
        "    # YOUR CODE ends HERE\n",
        "\n",
        "    return mult"
      ],
      "execution_count": null,
      "outputs": []
    },
    {
      "cell_type": "code",
      "metadata": {
        "id": "H3-91qalYplz"
      },
      "source": [
        "def PYTORCH_multiply(x, y):\n",
        "    \"\"\"\n",
        "    Multiply arguments element-wise.\n",
        "\n",
        "    Parameters: \n",
        "    x (torch.Tensor): 1-dimensional torch tensor.\n",
        "    y (torch.Tensor): 1-dimensional torch tensor.\n",
        "\n",
        "    Returns: \n",
        "    torch.Tensor: 1-dimensional torch tensor.\n",
        "    \"\"\"\n",
        "    # YOUR CODE STARTS HERE\n",
        "    mult = torch.multiply(x, y)\n",
        "    # YOUR CODE ends HERE\n",
        "\n",
        "    return mult"
      ],
      "execution_count": null,
      "outputs": []
    },
    {
      "cell_type": "code",
      "metadata": {
        "id": "k3PzQ-9CYq5j",
        "colab": {
          "base_uri": "https://localhost:8080/"
        },
        "outputId": "7e6a3f8c-eae1-40c1-9350-9bd908972846"
      },
      "source": [
        "# TEST cases\n",
        "X = np.asarray([1,2,3])\n",
        "Y = np.asarray([4,-5,6])\n",
        "print(f'NUMPY: Dot product of {X} and {Y} is {NUMPY_multiply(X,Y)}')\n",
        "\n",
        "X = torch.from_numpy(X)\n",
        "Y = torch.from_numpy(Y)\n",
        "print(f'Pytorch: Dot product of {X} and {Y} is {PYTORCH_multiply(X,Y)}')"
      ],
      "execution_count": null,
      "outputs": [
        {
          "output_type": "stream",
          "name": "stdout",
          "text": [
            "NUMPY: Dot product of [1 2 3] and [ 4 -5  6] is [  4 -10  18]\n",
            "Pytorch: Dot product of tensor([1, 2, 3]) and tensor([ 4, -5,  6]) is tensor([  4, -10,  18])\n"
          ]
        }
      ]
    },
    {
      "cell_type": "markdown",
      "metadata": {
        "id": "HpInjaNXaA12"
      },
      "source": [
        "**Exercise #7:** ReLU\n",
        "\n",
        "In this task, you will implement the ReLU activation function for numpy arrays and torch tensors.\n",
        "\n",
        "The ReLU activation (also known as the rectifier or rectified linear unit) matrix Z resulting from applying the ReLU function to matrix X is defined such that for $X,Z \\in M_{m \\times n} (\\mathbb{R})$, \n",
        "\n",
        "$$Z = {\\tt ReLU}(X) \\implies \\begin{cases}z_{ij} = x_{ij}&{\\mbox{if }}x_{ij}>0\\\\z_{ij} = 0&{\\mbox{otherwise.}}\\end{cases}$$\n",
        "\n",
        "For reference, it is common to use the notation $X = (x_{ij})$ and $Z = (z_{ij})$.\n",
        "\n",
        "**Your Task:** Implement the functions `NUMPY_ReLU` & `PYTORCH_ReLU`."
      ]
    },
    {
      "cell_type": "code",
      "metadata": {
        "id": "IYx9zXS9ZbNS"
      },
      "source": [
        "def NUMPY_ReLU(x):\n",
        "    \"\"\"\n",
        "    Applies the rectified linear unit function element-wise.\n",
        "\n",
        "    Parameters: \n",
        "    x (numpy.ndarray): 2-dimensional numpy array.\n",
        "\n",
        "    Returns: \n",
        "    numpy.ndarray: 2-dimensional numpy array.\n",
        "    \"\"\"\n",
        "    # YOUR CODE STARTS HERE\n",
        "    rel = np.maximum(x, 0)\n",
        "    # YOUR CODE ends HERE\n",
        "\n",
        "    return rel"
      ],
      "execution_count": null,
      "outputs": []
    },
    {
      "cell_type": "code",
      "metadata": {
        "id": "IQL_PfxoaDoR"
      },
      "source": [
        "def PYTORCH_ReLU(x):\n",
        "    \"\"\"\n",
        "    Applies the rectified linear unit function element-wise.\n",
        "\n",
        "    Parameters: \n",
        "    x (torch.Tensor): 2-dimensional torch tensor.\n",
        "\n",
        "    Returns: \n",
        "    torch.Tensor: 2-dimensional torch tensor.\n",
        "    \"\"\"\n",
        "    # YOUR CODE STARTS HERE\n",
        "    rel = torch.relu(x)\n",
        "    # YOUR CODE ends HERE\n",
        "\n",
        "    return rel"
      ],
      "execution_count": null,
      "outputs": []
    },
    {
      "cell_type": "code",
      "metadata": {
        "id": "xQd8n401aE2q",
        "colab": {
          "base_uri": "https://localhost:8080/"
        },
        "outputId": "0285b4fe-7bc4-42ee-c303-c9fb5daab963"
      },
      "source": [
        "#Test Cases\n",
        "np.random.seed(0)\n",
        "X = np.random.randint(-1000, 1000, size=(3,3))\n",
        "print(NUMPY_ReLU(X))\n",
        "\n",
        "X = torch.from_numpy(X)\n",
        "print(PYTORCH_ReLU(X))"
      ],
      "execution_count": null,
      "outputs": [
        {
          "output_type": "stream",
          "name": "stdout",
          "text": [
            "[[  0   0 653]\n",
            " [216   0   0]\n",
            " [731 383  33]]\n",
            "tensor([[  0,   0, 653],\n",
            "        [216,   0,   0],\n",
            "        [731, 383,  33]])\n"
          ]
        }
      ]
    },
    {
      "cell_type": "markdown",
      "metadata": {
        "id": "reRDSEkyTtuU"
      },
      "source": [
        "# Pytorch Differentiation"
      ]
    },
    {
      "cell_type": "markdown",
      "metadata": {
        "id": "mNgOZUQaT_ny"
      },
      "source": [
        "**Exercise #8:** \n",
        "\n",
        "**Your Task**: Determine the derivative of $ y = 2x^3+x $ at $x=1$"
      ]
    },
    {
      "cell_type": "code",
      "metadata": {
        "id": "O2royvcJb35_",
        "colab": {
          "base_uri": "https://localhost:8080/"
        },
        "outputId": "b0811bf5-da8b-4240-ef43-fe53924ab1b9"
      },
      "source": [
        "# YOUR CODE STARTS HERE\n",
        "x = torch.tensor(1.0, requires_grad= True)\n",
        "y = 2*x**3 + x\n",
        "y.backward()\n",
        "# YOUR CODE ends HERE\n",
        "print('the graid of y wrt x at x = 1 is ',x.grad)\n",
        "assert x.grad.item()==7"
      ],
      "execution_count": null,
      "outputs": [
        {
          "output_type": "stream",
          "name": "stdout",
          "text": [
            "the graid of y wrt x at x = 1 is  tensor(7.)\n"
          ]
        }
      ]
    },
    {
      "cell_type": "markdown",
      "metadata": {
        "id": "SnM5TjYAUsv_"
      },
      "source": [
        "**Exercise #9:** \n",
        "\n",
        "**Your Task**: Determine the <b>partial derivative</b> of the function: $f(u,v)=vu+u^{2}$ at $(u,v)=(1,2)$\n",
        "\n",
        "*   with respect to u\n",
        "*   with respect to v\n",
        "\n"
      ]
    },
    {
      "cell_type": "code",
      "metadata": {
        "id": "b5lh_HITUXZd",
        "colab": {
          "base_uri": "https://localhost:8080/"
        },
        "outputId": "fe3fdb78-e056-4e81-bdd2-dde6ecf2e589"
      },
      "source": [
        "# YOUR CODE STARTS HERE\n",
        "\n",
        "# Calculate f(u, v) = v * u + u^2 at u = 1, v = 2\n",
        "u = torch.tensor(1.0, requires_grad = True)\n",
        "v = torch.tensor(2.0, requires_grad= True)\n",
        "f = v * u + u**2\n",
        "print(\"The result of v * u + u^2: \", f)\n",
        "\n",
        "# Calculate the derivative with respect to u\n",
        "f.backward()\n",
        "print(\"The partial derivative with respect to u: \", u.grad)\n",
        "\n",
        "# Calculate the derivative with respect to v\n",
        "print(\"The partial derivative with respect to u: \", v.grad)\n",
        "# YOUR CODE ENDS HERE\n"
      ],
      "execution_count": null,
      "outputs": [
        {
          "output_type": "stream",
          "name": "stdout",
          "text": [
            "The result of v * u + u^2:  tensor(3., grad_fn=<AddBackward0>)\n",
            "The partial derivative with respect to u:  tensor(4.)\n",
            "The partial derivative with respect to u:  tensor(1.)\n"
          ]
        }
      ]
    },
    {
      "cell_type": "markdown",
      "metadata": {
        "id": "4idmC9bqWB-S"
      },
      "source": [
        "**Exercise #10:** \n",
        "\n",
        "**Your Task**: Visualize the relu activation function and it derivative\n",
        "\n"
      ]
    },
    {
      "cell_type": "code",
      "metadata": {
        "id": "o1ldzexvVTL_",
        "colab": {
          "base_uri": "https://localhost:8080/",
          "height": 279
        },
        "outputId": "7163f48a-22a2-4920-92f2-f65a57d3bdfa"
      },
      "source": [
        "x = torch.linspace(-3, 3, 100, requires_grad = True)\n",
        "# Take the derivative of Relu with respect to multiple value in x.\n",
        "Y = torch.relu(x)\n",
        "\n",
        "#gradients = torch.FloatTensor([0.1, 1.0, 0.0001])\n",
        "\n",
        "\n",
        "# Plot out the function and its derivative\n",
        "plt.plot(x.detach().numpy(), Y.detach().numpy(), label = 'ReLU function')\n",
        "Y = Y.sum()\n",
        "Y.backward()\n",
        "plt.plot(x.detach().numpy(), x.grad.numpy(), label = 'ReLU derivative')\n",
        "plt.xlabel('x')\n",
        "plt.legend()\n",
        "plt.show()"
      ],
      "execution_count": null,
      "outputs": [
        {
          "output_type": "display_data",
          "data": {
            "text/plain": [
              "<Figure size 432x288 with 1 Axes>"
            ],
            "image/png": "[encoded data removed]"
          },
          "metadata": {
            "needs_background": "light"
          }
        }
      ]
    },
    {
      "cell_type": "code",
      "source": [
        ""
      ],
      "metadata": {
        "id": "2ky6ZT68MnWd"
      },
      "execution_count": null,
      "outputs": []
    },
    {
      "cell_type": "code",
      "source": [
        ""
      ],
      "metadata": {
        "id": "GT8yymmbDSpX"
      },
      "execution_count": null,
      "outputs": []
    }
  ]
}